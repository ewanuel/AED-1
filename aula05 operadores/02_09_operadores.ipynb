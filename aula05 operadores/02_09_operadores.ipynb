{
 "cells": [
  {
   "cell_type": "code",
   "execution_count": null,
   "id": "a5dbcbbd-c93b-407f-950f-272cc8534656",
   "metadata": {},
   "outputs": [],
   "source": [
    "y =((x+3*b)/(2*x+c))"
   ]
  },
  {
   "cell_type": "code",
   "execution_count": 1,
   "id": "82b88c41-d837-4b3c-b0d9-39f78cafe76c",
   "metadata": {},
   "outputs": [
    {
     "name": "stdout",
     "output_type": "stream",
     "text": [
      "2.0\n"
     ]
    }
   ],
   "source": [
    "A = 2\n",
    "B = 6\n",
    "C = 3\n",
    "D = 4 \n",
    "E = 8\n",
    "F = 4\n",
    "\n",
    "X= (A+B/C)/(D-E/F)\n",
    "\n",
    "print(X)"
   ]
  },
  {
   "cell_type": "code",
   "execution_count": 24,
   "id": "2eafc2bf-e2a2-4093-863a-c6764a4b0458",
   "metadata": {},
   "outputs": [
    {
     "name": "stdout",
     "output_type": "stream",
     "text": [
      "-1.7834936490538904\n"
     ]
    }
   ],
   "source": [
    "import math\n",
    "\n",
    "X= 2\n",
    "\n",
    "Y = (((2 * X ** 2 - 3 * X ** (X + 1)) / 2) + (math.sqrt(X + 1) / X)) / (2 ** X)\n",
    "\n",
    "print(Y)"
   ]
  },
  {
   "cell_type": "code",
   "execution_count": null,
   "id": "a4074c35-a66f-473c-9b8e-b59f325df596",
   "metadata": {},
   "outputs": [],
   "source": []
  },
  {
   "cell_type": "code",
   "execution_count": null,
   "id": "b67c05fb-0463-4956-8016-2151645a4ce5",
   "metadata": {},
   "outputs": [],
   "source": []
  }
 ],
 "metadata": {
  "kernelspec": {
   "display_name": "Python 3 (ipykernel)",
   "language": "python",
   "name": "python3"
  },
  "language_info": {
   "codemirror_mode": {
    "name": "ipython",
    "version": 3
   },
   "file_extension": ".py",
   "mimetype": "text/x-python",
   "name": "python",
   "nbconvert_exporter": "python",
   "pygments_lexer": "ipython3",
   "version": "3.13.5"
  }
 },
 "nbformat": 4,
 "nbformat_minor": 5
}
