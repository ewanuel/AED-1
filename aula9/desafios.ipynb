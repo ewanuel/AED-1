{
 "cells": [
  {
   "cell_type": "code",
   "execution_count": 3,
   "id": "c68951e5-2cdc-4d19-b1c6-9b597e94710a",
   "metadata": {},
   "outputs": [
    {
     "name": "stdin",
     "output_type": "stream",
     "text": [
      "Quantos Números você deseja inserir na lista? 5\n",
      "Digite o 1º número:  2\n",
      "Digite o 2º número:  36\n",
      "Digite o 3º número:  1\n",
      "Digite o 4º número:  9846\n",
      "Digite o 5º número:  1\n"
     ]
    },
    {
     "name": "stdout",
     "output_type": "stream",
     "text": [
      "\n",
      "Resultados:\n",
      "Maior número: 9846.0\n",
      "Menor número: 1.0\n",
      "Soma: 9886.0\n",
      "Média: 1977.20\n"
     ]
    }
   ],
   "source": [
    "\n",
    "while True:\n",
    "    tot_num = int(input(\"Quantos Números você deseja inserir na lista?\"))\n",
    "    if tot_num > 0:\n",
    "        break\n",
    "    else:\n",
    "        print(\"Por favor, digite um número maior que zero.\")\n",
    "    \n",
    "num = []\n",
    "\n",
    "for i in range(tot_num):\n",
    "    n = float(input(f\"Digite o {i+1}º número: \"))\n",
    "    num.append(n)\n",
    "\n",
    "maior = max(num)\n",
    "menor = min(num)\n",
    "soma = sum(num)\n",
    "media = soma / len(num)\n",
    "\n",
    "print(f\"\\nResultados:\")\n",
    "print(f\"Maior número: {maior}\")\n",
    "print(f\"Menor número: {menor}\")\n",
    "print(f\"Soma: {soma}\")\n",
    "print(f\"Média: {media:.2f}\")"
   ]
  },
  {
   "cell_type": "code",
   "execution_count": 1,
   "id": "f69f8880-974f-4e83-a413-91cfba0ef6ed",
   "metadata": {},
   "outputs": [
    {
     "name": "stdin",
     "output_type": "stream",
     "text": [
      "Digite uma Frase qualquer \n",
      " adeus\n"
     ]
    },
    {
     "name": "stdout",
     "output_type": "stream",
     "text": [
      "Essa frase possui 5 caracteres\n",
      "Essa frase possui 1 palavras\n",
      "Frase invertida: \n",
      " sueda\n"
     ]
    }
   ],
   "source": [
    "\n",
    "frase = input(\"Digite uma Frase qualquer \\n\")\n",
    "\n",
    "palavras = frase.split()\n",
    "total_palavras = len(palavras)\n",
    "frase_invertida = frase[::-1]\n",
    "\n",
    "print(f\"Essa frase possui {len(frase)} caracteres\")\n",
    "print(f\"Essa frase possui {total_palavras} palavras\")\n",
    "print(f\"Frase invertida: \\n {frase_invertida}\")    \n"
   ]
  },
  {
   "cell_type": "code",
   "execution_count": 5,
   "id": "e3244fc8-2faa-4c4d-be38-8124b0f96991",
   "metadata": {},
   "outputs": [
    {
     "name": "stdout",
     "output_type": "stream",
     "text": [
      "Jogo da forca\n"
     ]
    },
    {
     "name": "stdin",
     "output_type": "stream",
     "text": [
      "Escolha a dificuldade \n",
      " [1]facil (10 tentativas) \n",
      " [2] medio (7 tentativas) \n",
      " [3] dificil (5 tentativas) 1\n"
     ]
    },
    {
     "name": "stdout",
     "output_type": "stream",
     "text": [
      "\n",
      "Jogo iniciado! Você tem 10 tentativas.\n",
      "Palavra: _ _ _ _ _ _\n",
      "\n",
      "Tentativas restantes: 10\n",
      "Letras erradas: \n"
     ]
    },
    {
     "name": "stdin",
     "output_type": "stream",
     "text": [
      "Digite uma letra:  p\n"
     ]
    },
    {
     "name": "stdout",
     "output_type": "stream",
     "text": [
      "Letra correta\n",
      "Palavra: P _ _ _ _ _\n",
      "\n",
      "Tentativas restantes: 10\n",
      "Letras erradas: \n"
     ]
    },
    {
     "name": "stdin",
     "output_type": "stream",
     "text": [
      "Digite uma letra:  a\n"
     ]
    },
    {
     "name": "stdout",
     "output_type": "stream",
     "text": [
      "Letra errada!\n",
      "Palavra: P _ _ _ _ _\n",
      "\n",
      "Tentativas restantes: 9\n",
      "Letras erradas: A\n"
     ]
    },
    {
     "name": "stdin",
     "output_type": "stream",
     "text": [
      "Digite uma letra:  y\n"
     ]
    },
    {
     "name": "stdout",
     "output_type": "stream",
     "text": [
      "Letra correta\n",
      "Palavra: P Y _ _ _ _\n",
      "\n",
      "Tentativas restantes: 9\n",
      "Letras erradas: A\n"
     ]
    },
    {
     "name": "stdin",
     "output_type": "stream",
     "text": [
      "Digite uma letra:  t\n"
     ]
    },
    {
     "name": "stdout",
     "output_type": "stream",
     "text": [
      "Letra correta\n",
      "Palavra: P Y T _ _ _\n",
      "\n",
      "Tentativas restantes: 9\n",
      "Letras erradas: A\n"
     ]
    },
    {
     "name": "stdin",
     "output_type": "stream",
     "text": [
      "Digite uma letra:  h\n"
     ]
    },
    {
     "name": "stdout",
     "output_type": "stream",
     "text": [
      "Letra correta\n",
      "Palavra: P Y T H _ _\n",
      "\n",
      "Tentativas restantes: 9\n",
      "Letras erradas: A\n"
     ]
    },
    {
     "name": "stdin",
     "output_type": "stream",
     "text": [
      "Digite uma letra:  21\n"
     ]
    },
    {
     "name": "stdout",
     "output_type": "stream",
     "text": [
      "Por favor digite apenas uma letra\n",
      "\n",
      "Tentativas restantes: 9\n",
      "Letras erradas: A\n"
     ]
    },
    {
     "name": "stdin",
     "output_type": "stream",
     "text": [
      "Digite uma letra:  2\n"
     ]
    },
    {
     "name": "stdout",
     "output_type": "stream",
     "text": [
      "Por favor digite apenas uma letra\n",
      "\n",
      "Tentativas restantes: 9\n",
      "Letras erradas: A\n"
     ]
    },
    {
     "name": "stdin",
     "output_type": "stream",
     "text": [
      "Digite uma letra:  o\n"
     ]
    },
    {
     "name": "stdout",
     "output_type": "stream",
     "text": [
      "Letra correta\n",
      "Palavra: P Y T H O _\n",
      "\n",
      "Tentativas restantes: 9\n",
      "Letras erradas: A\n"
     ]
    },
    {
     "name": "stdin",
     "output_type": "stream",
     "text": [
      "Digite uma letra:  t\n"
     ]
    },
    {
     "name": "stdout",
     "output_type": "stream",
     "text": [
      "Letra correta\n",
      "Palavra: P Y T H O _\n",
      "\n",
      "Tentativas restantes: 9\n",
      "Letras erradas: A\n"
     ]
    },
    {
     "name": "stdin",
     "output_type": "stream",
     "text": [
      "Digite uma letra:  h\n"
     ]
    },
    {
     "name": "stdout",
     "output_type": "stream",
     "text": [
      "Letra correta\n",
      "Palavra: P Y T H O _\n",
      "\n",
      "Tentativas restantes: 9\n",
      "Letras erradas: A\n"
     ]
    },
    {
     "name": "stdin",
     "output_type": "stream",
     "text": [
      "Digite uma letra:  l\n"
     ]
    },
    {
     "name": "stdout",
     "output_type": "stream",
     "text": [
      "Letra errada!\n",
      "Palavra: P Y T H O _\n",
      "\n",
      "Tentativas restantes: 8\n",
      "Letras erradas: A L\n"
     ]
    },
    {
     "name": "stdin",
     "output_type": "stream",
     "text": [
      "Digite uma letra:  n\n"
     ]
    },
    {
     "name": "stdout",
     "output_type": "stream",
     "text": [
      "Letra correta\n",
      "Palavra: P Y T H O N\n",
      "\n",
      "🎉 Parabéns! Você venceu! A palavra era: PYTHON\n"
     ]
    }
   ],
   "source": [
    "palavra_secreta = \"PYTHON\"\n",
    "letras_descobertas = [\"_\"] * len(palavra_secreta)\n",
    "\n",
    "while True:\n",
    "    print (\"Jogo da forca\")\n",
    "    dificuldade = int(input(\"Escolha a dificuldade \\n [1]facil (10 tentativas) \\n [2] medio (7 tentativas) \\n [3] dificil (5 tentativas)\"))\n",
    "\n",
    "    if dificuldade == 1:\n",
    "        tentativas = 10\n",
    "        break\n",
    "    elif dificuldade == 2:\n",
    "        tentativas = 7\n",
    "        break\n",
    "    elif dificuldade == 3:\n",
    "        tentativas = 5\n",
    "        break\n",
    "    else:\n",
    "        print(\"Opção inválida! Escolha 1, 2 ou 3.\")\n",
    "\n",
    "tentativas_restantes = tentativas\n",
    "letras_erradas = []\n",
    "\n",
    "print(f\"\\nJogo iniciado! Você tem {tentativas} tentativas.\")\n",
    "print(\"Palavra: \" + \" \".join(letras_descobertas))\n",
    "\n",
    "while tentativas_restantes > 0 and \"_\" in letras_descobertas:\n",
    "    print(f\"\\nTentativas restantes: {tentativas_restantes}\")\n",
    "    print(\"Letras erradas: \" + \" \".join(letras_erradas))\n",
    "\n",
    "    tentativa = input(\"Digite uma letra: \").upper()\n",
    "\n",
    "    if len(tentativa) != 1 or not tentativa.isalpha():\n",
    "        print(\"Por favor digite apenas uma letra\")\n",
    "        continue\n",
    "\n",
    "    if tentativa in palavra_secreta:\n",
    "        print(\"Letra correta\")\n",
    "        for i in range(len(palavra_secreta)):\n",
    "            if palavra_secreta[i] == tentativa:\n",
    "                letras_descobertas[i] = tentativa\n",
    "    else:\n",
    "        print(\"Letra errada!\")\n",
    "        letras_erradas.append(tentativa)\n",
    "        tentativas_restantes -= 1\n",
    "\n",
    "    print(\"Palavra: \" + \" \".join(letras_descobertas))\n",
    "\n",
    "if \"_\" not in letras_descobertas:\n",
    "    print(f\"\\n🎉 Parabéns! Você venceu! A palavra era: {palavra_secreta}\")\n",
    "else:\n",
    "    print(f\"\\n💀 Game Over! A palavra era: {palavra_secreta}\")"
   ]
  },
  {
   "cell_type": "code",
   "execution_count": null,
   "id": "e31d8c59-439d-4cb8-a43a-3507afd3a788",
   "metadata": {},
   "outputs": [],
   "source": []
  }
 ],
 "metadata": {
  "kernelspec": {
   "display_name": "Python 3 (ipykernel)",
   "language": "python",
   "name": "python3"
  },
  "language_info": {
   "codemirror_mode": {
    "name": "ipython",
    "version": 3
   },
   "file_extension": ".py",
   "mimetype": "text/x-python",
   "name": "python",
   "nbconvert_exporter": "python",
   "pygments_lexer": "ipython3",
   "version": "3.13.5"
  }
 },
 "nbformat": 4,
 "nbformat_minor": 5
}
