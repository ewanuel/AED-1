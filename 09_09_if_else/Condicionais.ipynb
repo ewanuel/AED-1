{
 "cells": [
  {
   "cell_type": "code",
   "execution_count": 1,
   "id": "4f3dc33c-0102-4b1c-8828-0ee396dd9940",
   "metadata": {},
   "outputs": [
    {
     "name": "stdout",
     "output_type": "stream",
     "text": [
      "não\n"
     ]
    }
   ],
   "source": [
    "if 10 >= 30: \n",
    "    print(\"sim\")\n",
    "else:\n",
    "    print(\"não\")"
   ]
  },
  {
   "cell_type": "code",
   "execution_count": 20,
   "id": "474343b5-6362-4761-b3fb-f042a82bfd13",
   "metadata": {},
   "outputs": [
    {
     "name": "stdin",
     "output_type": "stream",
     "text": [
      "digite o primeiro número 10\n",
      "digite o segundo número 2\n"
     ]
    },
    {
     "name": "stdout",
     "output_type": "stream",
     "text": [
      "10\n"
     ]
    }
   ],
   "source": [
    "num1 = int(input(\"digite o primeiro número\"))\n",
    "num2 = int(input(\"digite o segundo número\"))\n",
    "\n",
    "if num1 > num2:\n",
    "    print(str(num1))\n",
    "elif num1 == num2:\n",
    "    print(str(num1) + \" e \" + str(num2) + \"são iguais\")\n",
    "else:\n",
    "    print(str(num2))\n",
    "    "
   ]
  },
  {
   "cell_type": "code",
   "execution_count": null,
   "id": "b9ddd080-6f94-4c63-bc59-409c80c5ddfe",
   "metadata": {},
   "outputs": [],
   "source": []
  },
  {
   "cell_type": "code",
   "execution_count": 24,
   "id": "441f1580-1d90-435a-b1b9-3b693af0cdb4",
   "metadata": {},
   "outputs": [
    {
     "name": "stdin",
     "output_type": "stream",
     "text": [
      "digite a idade do nadador 25\n"
     ]
    },
    {
     "name": "stdout",
     "output_type": "stream",
     "text": [
      "Adulto\n"
     ]
    }
   ],
   "source": [
    "idade = int(input(\"digite a idade do nadador\"))\n",
    "\n",
    "if idade <= 7:\n",
    "    print (\"Infantil\")\n",
    "elif idade <= 10:\n",
    "    print (\"Juvenil\")\n",
    "elif idade <= 15:\n",
    "    print (\"Adolescente\")\n",
    "elif idade <= 30:\n",
    "    print (\"Adulto\")\n",
    "else:\n",
    "    print (\"senior\")"
   ]
  },
  {
   "cell_type": "code",
   "execution_count": 46,
   "id": "acfe1632-ecf0-469f-8ee3-f811e899197b",
   "metadata": {},
   "outputs": [
    {
     "name": "stdin",
     "output_type": "stream",
     "text": [
      "qual o tamanho do primeiro lado? 12\n",
      "qual o tamanho do segundo lado? 3\n",
      "qual o tamanho do terceiro lado? 4\n"
     ]
    },
    {
     "name": "stdout",
     "output_type": "stream",
     "text": [
      "Triângulo Escaleno\n"
     ]
    }
   ],
   "source": [
    "plado = int(input(\"qual o tamanho do primeiro lado?\"))\n",
    "slado = int(input(\"qual o tamanho do segundo lado?\"))\n",
    "tlado = int(input(\"qual o tamanho do terceiro lado?\"))\n",
    "\n",
    "if plado == slado == tlado:\n",
    "    print (\"Triângulo Equilátero\")\n",
    "elif plado == slado or plado == tlado or tlado == slado:\n",
    "    print (\"Triângulo Isóceles\")\n",
    "else:\n",
    "    print (\"Triângulo Escaleno\")\n",
    "\n"
   ]
  },
  {
   "cell_type": "code",
   "execution_count": 13,
   "id": "39e8e42a-3db0-40c3-9b3e-9df4acafa66f",
   "metadata": {},
   "outputs": [
    {
     "name": "stdin",
     "output_type": "stream",
     "text": [
      "qual o preço do produto? 44\n",
      "digite o codigo de origem [1-5] 3\n"
     ]
    },
    {
     "name": "stdout",
     "output_type": "stream",
     "text": [
      "o preço do seu produto é: 47.96 da região: Nordeste\n"
     ]
    }
   ],
   "source": [
    "preco = float(input(\"qual o preço do produto?\"))\n",
    "cod = int(input(\"digite o codigo de origem [1-5]\"))\n",
    "reg = \" \"\n",
    "\n",
    "if cod == 1:\n",
    "    nvp = (preco * (11/100)) + preco\n",
    "    reg = \"Sul\"\n",
    "elif cod == 2:\n",
    "    nvp = (preco * (13/100)) + preco\n",
    "    reg = \"Norte\"\n",
    "elif cod == 3:\n",
    "    nvp = (preco * (9/100)) + preco\n",
    "    reg = \"Nordeste\"\n",
    "elif cod == 4:\n",
    "    nvp = (preco * (12/100)) + preco\n",
    "    reg = \"Centro-Oeste\"\n",
    "elif cod == 5:\n",
    "    nvp = (preco * (18/100)) + preco\n",
    "    reg = \"Sudeste\"\n",
    "else:\n",
    "    print (\"codigo invalido\")\n",
    "\n",
    "print (\"o preço do seu produto é: \" + str(nvp) + \" da região: \" + str(reg))"
   ]
  },
  {
   "cell_type": "code",
   "execution_count": null,
   "id": "288816af-274b-4d4e-b9c0-62be7677b57b",
   "metadata": {},
   "outputs": [],
   "source": [
    "ax =\n",
    "bx =\n",
    "c =\n",
    "\n",
    "\n",
    "while True:    \n",
    "    ax = float(input(\"digite o A da equação\"))\n",
    "    if ax == 0:\n",
    "        print (\"essa equação não é do segundo grau\")\n",
    "        break\n",
    "    else:\n",
    "        bx = float(input(\"digite o B da equação\"))\n",
    "        c = float(input(\"Digite o C da equação: \"))\n",
    "\n",
    "        delta =bx**2 - 4*ax*c\n",
    "\n",
    "        if delta < 0:\n",
    "            print(\"A equação não possui raízes reais (delta negativo)\")\n",
    "            break\n",
    "        \n"
   ]
  }
 ],
 "metadata": {
  "kernelspec": {
   "display_name": "Python 3 (ipykernel)",
   "language": "python",
   "name": "python3"
  },
  "language_info": {
   "codemirror_mode": {
    "name": "ipython",
    "version": 3
   },
   "file_extension": ".py",
   "mimetype": "text/x-python",
   "name": "python",
   "nbconvert_exporter": "python",
   "pygments_lexer": "ipython3",
   "version": "3.13.5"
  }
 },
 "nbformat": 4,
 "nbformat_minor": 5
}
