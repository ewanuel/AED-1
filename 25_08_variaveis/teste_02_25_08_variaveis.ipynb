{
 "cells": [
  {
   "cell_type": "code",
   "execution_count": 12,
   "id": "4b2a3296-42d8-4b7c-8568-60e9e9d73edb",
   "metadata": {},
   "outputs": [
    {
     "name": "stdout",
     "output_type": "stream",
     "text": [
      "teste\n"
     ]
    }
   ],
   "source": [
    "inteiro = 10 #int\n",
    "numero_quebrado = 10.5 #float\n",
    "tsbool = True #valor booleano\n",
    "palavra = \"teste\" #string\n",
    "\n",
    "print (palavra)\n",
    "\n"
   ]
  },
  {
   "cell_type": "code",
   "execution_count": 18,
   "id": "273ffa9e-59e2-4a7b-b6ff-73376af78a9b",
   "metadata": {},
   "outputs": [
    {
     "data": {
      "text/plain": [
       "14"
      ]
     },
     "execution_count": 18,
     "metadata": {},
     "output_type": "execute_result"
    }
   ],
   "source": [
    "2+3\n",
    "9+5"
   ]
  },
  {
   "cell_type": "code",
   "execution_count": 16,
   "id": "8fcb82e4-ea00-46e5-b7ca-1725c8c377aa",
   "metadata": {},
   "outputs": [
    {
     "name": "stdout",
     "output_type": "stream",
     "text": [
      "Olá mundo\n",
      " Hello World\n"
     ]
    }
   ],
   "source": [
    "print(\"Olá mundo\\n Hello World\")"
   ]
  },
  {
   "cell_type": "code",
   "execution_count": null,
   "id": "8efc867d-c8f2-4ce7-9322-d51bbb159b72",
   "metadata": {},
   "outputs": [],
   "source": [
    "\"\"\"ccomentarios longos\n",
    "em muitas linhas\"\"\" var = 1\n"
   ]
  }
 ],
 "metadata": {
  "kernelspec": {
   "display_name": "Python [conda env:base] *",
   "language": "python",
   "name": "conda-base-py"
  },
  "language_info": {
   "codemirror_mode": {
    "name": "ipython",
    "version": 3
   },
   "file_extension": ".py",
   "mimetype": "text/x-python",
   "name": "python",
   "nbconvert_exporter": "python",
   "pygments_lexer": "ipython3",
   "version": "3.12.7"
  }
 },
 "nbformat": 4,
 "nbformat_minor": 5
}
