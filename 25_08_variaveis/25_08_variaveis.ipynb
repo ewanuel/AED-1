{
 "cells": [
  {
   "cell_type": "code",
   "execution_count": null,
   "id": "00716cc3-ca48-43f6-8afd-783672fd349b",
   "metadata": {},
   "outputs": [],
   "source": [
    "inteiro = 10 #int\n",
    "numero_quebrado = 10.5 #float\n",
    "verdeiro = true #valor booleano\n",
    "palavra = \"teste\" #string\n",
    "\n"
   ]
  }
 ],
 "metadata": {
  "kernelspec": {
   "display_name": "Python [conda env:base] *",
   "language": "python",
   "name": "conda-base-py"
  },
  "language_info": {
   "codemirror_mode": {
    "name": "ipython",
    "version": 3
   },
   "file_extension": ".py",
   "mimetype": "text/x-python",
   "name": "python",
   "nbconvert_exporter": "python",
   "pygments_lexer": "ipython3",
   "version": "3.12.7"
  }
 },
 "nbformat": 4,
 "nbformat_minor": 5
}
