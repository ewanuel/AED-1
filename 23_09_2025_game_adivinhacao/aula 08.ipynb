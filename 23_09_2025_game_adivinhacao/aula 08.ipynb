{
 "cells": [
  {
   "cell_type": "markdown",
   "id": "7a68c8b4-23fb-4fe3-b6fa-7a7871968478",
   "metadata": {},
   "source": [
    "# Desenvolvimento de um Jogo de Advinhação de Números!\n",
    "## Como ele deve funcionar?\n",
    "- O jogador deve entrar com um número de 1 a 75\n",
    "- O computador irá sortear aleatoriamente um desses números"
   ]
  },
  {
   "cell_type": "code",
   "execution_count": null,
   "id": "28694a3e-995c-4b65-a1ef-3aeece6faf13",
   "metadata": {},
   "outputs": [
    {
     "name": "stdin",
     "output_type": "stream",
     "text": [
      "Escolha a dificuldade \n",
      "[1] Facil \n",
      "[2] Medio \n",
      "[3] Difícil \n",
      " 2\n"
     ]
    },
    {
     "name": "stdout",
     "output_type": "stream",
     "text": [
      "Tentativas 1 de 12\n"
     ]
    },
    {
     "name": "stdin",
     "output_type": "stream",
     "text": [
      "Digite um número de 1 a 75: 42\n"
     ]
    },
    {
     "name": "stdout",
     "output_type": "stream",
     "text": [
      "Você digitou: 42\n",
      "Você errou, seu numero foi maior 😭😭😭\n",
      "Tentativas 2 de 12\n"
     ]
    },
    {
     "name": "stdin",
     "output_type": "stream",
     "text": [
      "Digite um número de 1 a 75: 32\n"
     ]
    },
    {
     "name": "stdout",
     "output_type": "stream",
     "text": [
      "Você digitou: 32\n",
      "Você errou, seu numero foi menor 😭😭😭\n",
      "Tentativas 3 de 12\n"
     ]
    },
    {
     "name": "stdin",
     "output_type": "stream",
     "text": [
      "Digite um número de 1 a 75: 123\n"
     ]
    },
    {
     "name": "stdout",
     "output_type": "stream",
     "text": [
      "Você digitou: 123\n",
      "Número invalido!\n",
      "Tentativas 4 de 12\n"
     ]
    },
    {
     "name": "stdin",
     "output_type": "stream",
     "text": [
      "Digite um número de 1 a 75: 213\n"
     ]
    },
    {
     "name": "stdout",
     "output_type": "stream",
     "text": [
      "Você digitou: 213\n",
      "Número invalido!\n",
      "Tentativas 5 de 12\n"
     ]
    },
    {
     "name": "stdin",
     "output_type": "stream",
     "text": [
      "Digite um número de 1 a 75: 421\n"
     ]
    },
    {
     "name": "stdout",
     "output_type": "stream",
     "text": [
      "Você digitou: 421\n",
      "Número invalido!\n",
      "Tentativas 6 de 12\n"
     ]
    },
    {
     "name": "stdin",
     "output_type": "stream",
     "text": [
      "Digite um número de 1 a 75: 421\n"
     ]
    },
    {
     "name": "stdout",
     "output_type": "stream",
     "text": [
      "Você digitou: 421\n",
      "Número invalido!\n",
      "Tentativas 7 de 12\n"
     ]
    },
    {
     "name": "stdin",
     "output_type": "stream",
     "text": [
      "Digite um número de 1 a 75: 421\n"
     ]
    },
    {
     "name": "stdout",
     "output_type": "stream",
     "text": [
      "Você digitou: 421\n",
      "Número invalido!\n",
      "Tentativas 8 de 12\n"
     ]
    },
    {
     "name": "stdin",
     "output_type": "stream",
     "text": [
      "Digite um número de 1 a 75: 321\n"
     ]
    },
    {
     "name": "stdout",
     "output_type": "stream",
     "text": [
      "Você digitou: 321\n",
      "Número invalido!\n",
      "Tentativas 9 de 12\n"
     ]
    },
    {
     "name": "stdin",
     "output_type": "stream",
     "text": [
      "Digite um número de 1 a 75: 312\n"
     ]
    },
    {
     "name": "stdout",
     "output_type": "stream",
     "text": [
      "Você digitou: 312\n",
      "Número invalido!\n",
      "Tentativas 10 de 12\n"
     ]
    },
    {
     "name": "stdin",
     "output_type": "stream",
     "text": [
      "Digite um número de 1 a 75: 21\n"
     ]
    },
    {
     "name": "stdout",
     "output_type": "stream",
     "text": [
      "Você digitou: 21\n",
      "Você errou, seu numero foi menor 😭😭😭\n",
      "Tentativas 11 de 12\n"
     ]
    },
    {
     "name": "stdin",
     "output_type": "stream",
     "text": [
      "Digite um número de 1 a 75: 321\n"
     ]
    },
    {
     "name": "stdout",
     "output_type": "stream",
     "text": [
      "Você digitou: 321\n",
      "Número invalido!\n",
      "Tentativas 12 de 12\n"
     ]
    },
    {
     "name": "stdin",
     "output_type": "stream",
     "text": [
      "Digite um número de 1 a 75: 21\n"
     ]
    },
    {
     "name": "stdout",
     "output_type": "stream",
     "text": [
      "Você digitou: 21\n",
      "Você errou, seu numero foi menor 😭😭😭\n"
     ]
    },
    {
     "name": "stdin",
     "output_type": "stream",
     "text": [
      "Deseja continuar? [S/N] S\n"
     ]
    }
   ],
   "source": [
    "from random import randint\n",
    "\n",
    "numero_secreto = randint(1,76)\n",
    "\n",
    "tentativas_totais = 0\n",
    "\n",
    "dificuldade = 0\n",
    "\n",
    "while True:\n",
    "    while dificuldade != 1 or dificuldade != 2 or dificuldade != 3:\n",
    "        dificuldade = int(input(\"Escolha a dificuldade \\n\" \"[1] Facil \\n\" \"[2] Medio \\n\" \"[3] Difícil \\n\"))\n",
    "    \n",
    "        if dificuldade == 1:\n",
    "            tentativas_totais = 22\n",
    "            break\n",
    "        elif dificuldade == 2:\n",
    "            tentativas_totais = 12\n",
    "            break\n",
    "        elif dificuldade == 3:\n",
    "            tentativas_totais = 7\n",
    "            break\n",
    "        else:\n",
    "            print (\"favor inserir um valor correto\")\n",
    "    \n",
    "    for rodadas in range (1, tentativas_totais + 1):\n",
    "        print(\"Tentativas\", str(rodadas), \"de\", str(tentativas_totais))\n",
    "        valor_escolhido = int(input(\"Digite um número de 1 a 75:\"))\n",
    "        print(\"Você digitou:\", str(valor_escolhido))\n",
    "    \n",
    "        if valor_escolhido < 1 or valor_escolhido > 75:\n",
    "            print(\"Número invalido!\")\n",
    "            continue\n",
    "    \n",
    "        acerto = valor_escolhido == numero_secreto\n",
    "        maior = valor_escolhido > numero_secreto\n",
    "        menor = valor_escolhido < numero_secreto\n",
    "    \n",
    "        if acerto:\n",
    "            print(\"Parabensssss, você acertou o número secreto!!! 🥳🥳🥳\")\n",
    "            break\n",
    "        else:\n",
    "            if maior:\n",
    "                print(\"Você errou, seu numero foi maior 😭😭😭\")\n",
    "            elif menor:\n",
    "                print(\"Você errou, seu numero foi menor 😭😭😭\")\n",
    "\n",
    "    \n",
    "    continuar = input(\"Deseja continuar? [S/N]\")\n",
    "    if continuar == \"S\":\n",
    "        continue\n",
    "    elif continuar == \"N\":\n",
    "        break\n",
    "    else:\n",
    "        print (\"favor insira um valor correto\")\n",
    "    \n",
    "\n",
    "print (\"fim de jogo\")"
   ]
  },
  {
   "cell_type": "code",
   "execution_count": null,
   "id": "f4d6eceb-3a5f-4e9e-bc68-3836605be3f0",
   "metadata": {},
   "outputs": [],
   "source": []
  }
 ],
 "metadata": {
  "kernelspec": {
   "display_name": "Python [conda env:base] *",
   "language": "python",
   "name": "conda-base-py"
  },
  "language_info": {
   "codemirror_mode": {
    "name": "ipython",
    "version": 3
   },
   "file_extension": ".py",
   "mimetype": "text/x-python",
   "name": "python",
   "nbconvert_exporter": "python",
   "pygments_lexer": "ipython3",
   "version": "3.12.7"
  }
 },
 "nbformat": 4,
 "nbformat_minor": 5
}
