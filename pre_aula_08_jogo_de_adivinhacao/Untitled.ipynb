{
 "cells": [
  {
   "cell_type": "code",
   "execution_count": 3,
   "id": "b95c7a78-09fd-4ea9-8ec1-f98b1ae3ce24",
   "metadata": {},
   "outputs": [
    {
     "name": "stdin",
     "output_type": "stream",
     "text": [
      "Escolha a dificuldade \n",
      "[F] Facil \n",
      "[M] Medio \n",
      "[D] Difícil \n",
      " D\n"
     ]
    },
    {
     "name": "stdout",
     "output_type": "stream",
     "text": [
      "Tentativas 1 de 5\n"
     ]
    },
    {
     "name": "stdin",
     "output_type": "stream",
     "text": [
      "Digite um número de 1 a 100: 10\n"
     ]
    },
    {
     "name": "stdout",
     "output_type": "stream",
     "text": [
      "voce digitou 10\n",
      "você errou, seu numero foi menor :(\n",
      "Tentativas 2 de 5\n"
     ]
    },
    {
     "name": "stdin",
     "output_type": "stream",
     "text": [
      "Digite um número de 1 a 100: 5\n"
     ]
    },
    {
     "name": "stdout",
     "output_type": "stream",
     "text": [
      "voce digitou 5\n",
      "você errou, seu numero foi menor :(\n",
      "Tentativas 3 de 5\n"
     ]
    },
    {
     "name": "stdin",
     "output_type": "stream",
     "text": [
      "Digite um número de 1 a 100: 88\n"
     ]
    },
    {
     "name": "stdout",
     "output_type": "stream",
     "text": [
      "voce digitou 88\n",
      "você errou, seu numero foi maior :(\n",
      "Tentativas 4 de 5\n"
     ]
    },
    {
     "name": "stdin",
     "output_type": "stream",
     "text": [
      "Digite um número de 1 a 100: 6\n"
     ]
    },
    {
     "name": "stdout",
     "output_type": "stream",
     "text": [
      "voce digitou 6\n",
      "você errou, seu numero foi menor :(\n",
      "Tentativas 5 de 5\n"
     ]
    },
    {
     "name": "stdin",
     "output_type": "stream",
     "text": [
      "Digite um número de 1 a 100: 88\n"
     ]
    },
    {
     "name": "stdout",
     "output_type": "stream",
     "text": [
      "voce digitou 88\n",
      "você errou, seu numero foi maior :(\n",
      "fim de jogo\n"
     ]
    }
   ],
   "source": [
    "import random\n",
    "\n",
    "n_scrt = random.randint(1, 101)\n",
    "tot_tent = 0\n",
    "dif = \"\"\n",
    "\n",
    "while dif != \"F\" or dif != \"M\" or dif != \"D\":\n",
    "    dif = input(\"Escolha a dificuldade \\n\" \"[F] Facil \\n\" \"[M] Medio \\n\" \"[D] Difícil \\n\").upper()\n",
    "    \n",
    "    if dif == \"F\":\n",
    "        tot_tent = 20\n",
    "        break\n",
    "    elif dif == \"M\":\n",
    "        tot_tent = 10\n",
    "        break\n",
    "    elif dif == \"D\":\n",
    "        tot_tent = 5\n",
    "        break\n",
    "    else:\n",
    "        print (\"favor inserir um valor correto\")\n",
    "\n",
    "for rod in range (1, tot_tent + 1):\n",
    "    print(\"Tentativas\", str(rod), \"de\", str(tot_tent))\n",
    "    val_esc = int(input(\"Digite um número de 1 a 100:\"))\n",
    "    print(\"voce digitou\", str(val_esc))\n",
    "\n",
    "    if val_esc < 1 or val_esc > 100:\n",
    "        print(\"número invalido!\")\n",
    "        continue\n",
    "    act = val_esc == n_scrt\n",
    "    maior = val_esc > n_scrt\n",
    "    menor = val_esc < n_scrt\n",
    "\n",
    "    if act:\n",
    "        print(\"você acertou o número secreto!!! 🥳🥳🥳\")\n",
    "        break\n",
    "    else:\n",
    "        if maior :\n",
    "            print(\"você errou, seu numero foi maior :(\")\n",
    "        elif menor:\n",
    "            print(\"você errou, seu numero foi menor :(\")\n",
    "\n",
    "print (\"fim de jogo\")"
   ]
  },
  {
   "cell_type": "code",
   "execution_count": null,
   "id": "f5ce155a-400c-46e0-96b3-47703b6aa127",
   "metadata": {},
   "outputs": [],
   "source": []
  }
 ],
 "metadata": {
  "kernelspec": {
   "display_name": "Python [conda env:base] *",
   "language": "python",
   "name": "conda-base-py"
  },
  "language_info": {
   "codemirror_mode": {
    "name": "ipython",
    "version": 3
   },
   "file_extension": ".py",
   "mimetype": "text/x-python",
   "name": "python",
   "nbconvert_exporter": "python",
   "pygments_lexer": "ipython3",
   "version": "3.12.7"
  }
 },
 "nbformat": 4,
 "nbformat_minor": 5
}
