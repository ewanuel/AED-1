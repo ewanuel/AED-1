{
 "cells": [
  {
   "cell_type": "code",
   "execution_count": 2,
   "id": "b95c7a78-09fd-4ea9-8ec1-f98b1ae3ce24",
   "metadata": {},
   "outputs": [
    {
     "ename": "SyntaxError",
     "evalue": "expected ':' (779577371.py, line 40)",
     "output_type": "error",
     "traceback": [
      "\u001b[1;36m  Cell \u001b[1;32mIn[2], line 40\u001b[1;36m\u001b[0m\n\u001b[1;33m    else menor:\u001b[0m\n\u001b[1;37m         ^\u001b[0m\n\u001b[1;31mSyntaxError\u001b[0m\u001b[1;31m:\u001b[0m expected ':'\n"
     ]
    }
   ],
   "source": [
    "import random\n",
    "\n",
    "n_scrt = random.randint(1, 101)\n",
    "tot_tent = 0\n",
    "dif = \"\"\n",
    "\n",
    "while dif != \"F\" or dif != \"M\" or dif != \"D\":\n",
    "    dif = input(\"Escolhar a dificuldade \\n\" \"[F] Facil \\n\" \"[M] Medio \\n\" \"[D] Difícil \\n\").upper()\n",
    "    \n",
    "    if dif == \"F\":\n",
    "        tot_tent = 20\n",
    "        break\n",
    "    elif dif == \"M\":\n",
    "        tot_tent = 10\n",
    "        break\n",
    "    elif dif == \"D\":\n",
    "        tot_tent = 5\n",
    "        break\n",
    "    else:\n",
    "        print (\"favor inserir um valor correto\")\n",
    "\n",
    "for rod in range (1, tot_tent + 1):\n",
    "    print(\"Tentativas\", str(rod), \"de\", str(tot_tent))\n",
    "    val_esc = int(input(\"Digite um número de 1 a 100:\"))\n",
    "    print(\"voce digitou\", str(val_esc))\n",
    "\n",
    "    if val_esc < 1 or val_esc > 100:\n",
    "        print(\"número invalido!\")\n",
    "        continue\n",
    "    act = val_esc == n_scrt\n",
    "    maior = val_esc > n_scrt\n",
    "    menor = val_esc < n_scrt\n",
    "\n",
    "    if act:\n",
    "        print(\"você acertou o número secreto!!! 🥳🥳🥳\")\n",
    "        break\n",
    "    else:\n",
    "        if maior :\n",
    "            print(\"você errou seu numero foi maior :(\")\n",
    "        elif menor:\n",
    "            print(\"você errou seu numero foi menor :(\")\n",
    "\n",
    "print (\"fim de jogo\")"
   ]
  },
  {
   "cell_type": "code",
   "execution_count": null,
   "id": "f5ce155a-400c-46e0-96b3-47703b6aa127",
   "metadata": {},
   "outputs": [],
   "source": []
  }
 ],
 "metadata": {
  "kernelspec": {
   "display_name": "Python 3 (ipykernel)",
   "language": "python",
   "name": "python3"
  },
  "language_info": {
   "codemirror_mode": {
    "name": "ipython",
    "version": 3
   },
   "file_extension": ".py",
   "mimetype": "text/x-python",
   "name": "python",
   "nbconvert_exporter": "python",
   "pygments_lexer": "ipython3",
   "version": "3.13.5"
  }
 },
 "nbformat": 4,
 "nbformat_minor": 5
}
