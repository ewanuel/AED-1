{
 "cells": [
  {
   "cell_type": "code",
   "execution_count": 13,
   "id": "65fefc76-868c-4484-baa8-90d5f60d635e",
   "metadata": {},
   "outputs": [
    {
     "name": "stdin",
     "output_type": "stream",
     "text": [
      "Entre com a idade1 : 3\n",
      "Entre com a idade2 : 4\n",
      "Entre com a idade3 : 5\n",
      "Entre com a idade4 : 61\n",
      "Entre com a idade5 : 23\n"
     ]
    },
    {
     "name": "stdout",
     "output_type": "stream",
     "text": [
      "A media das idades é:  19.2\n"
     ]
    }
   ],
   "source": [
    "soma = 0\n",
    "i = 1\n",
    "while i<=5:\n",
    "    idade = int(input(\"Entre com a idade\" + str(i) + \" :\"))\n",
    "    soma = soma + idade\n",
    "    i = i + 1\n",
    "media = soma/5\n",
    "print(\"A media das idades é: \", media)"
   ]
  },
  {
   "cell_type": "code",
   "execution_count": 9,
   "id": "3b284026-d146-49c3-97fe-006e422f689f",
   "metadata": {},
   "outputs": [
    {
     "name": "stdout",
     "output_type": "stream",
     "text": [
      "Olá!\n",
      "Olá!\n",
      "Olá!\n",
      "Olá!\n",
      "Olá!\n"
     ]
    }
   ],
   "source": [
    "for i in range (1,6):\n",
    "    print(\"Olá!\")"
   ]
  },
  {
   "cell_type": "code",
   "execution_count": 15,
   "id": "43735993-6dda-4eda-b7c3-34181ef284cd",
   "metadata": {},
   "outputs": [
    {
     "name": "stdout",
     "output_type": "stream",
     "text": [
      "10\n",
      "9\n",
      "8\n",
      "7\n",
      "6\n",
      "5\n",
      "4\n",
      "3\n",
      "2\n",
      "1\n"
     ]
    }
   ],
   "source": [
    "for i in range(10, 0, -1):\n",
    "    print (i)"
   ]
  },
  {
   "cell_type": "code",
   "execution_count": 67,
   "id": "76bb0d19-22df-4ac9-b299-32d2dfeb06a1",
   "metadata": {},
   "outputs": [
    {
     "name": "stdin",
     "output_type": "stream",
     "text": [
      "Digite um valor positivo 2\n"
     ]
    },
    {
     "name": "stdout",
     "output_type": "stream",
     "text": [
      "o valor de E é: 6\n"
     ]
    }
   ],
   "source": [
    "n = int(input(\"Digite um valor positivo\"))\n",
    "\n",
    "while n < 0:\n",
    "    print (\"favor colocar um valor positivo\")\n",
    "    break\n",
    "\n",
    "while n >= 0:\n",
    "    e = 0 \n",
    "\n",
    "    for i in range ( 1, n + 1):\n",
    "        e = e + (2 ** i)\n",
    "\n",
    "    print(\"o valor de E é: \" + str(e))\n",
    "    break"
   ]
  },
  {
   "cell_type": "code",
   "execution_count": 69,
   "id": "88fdb0b3-b7b5-477e-a9ba-33ab9d787943",
   "metadata": {},
   "outputs": [
    {
     "name": "stdin",
     "output_type": "stream",
     "text": [
      "Digite um valor positivo -1\n"
     ]
    },
    {
     "name": "stdout",
     "output_type": "stream",
     "text": [
      "favor colocar um valor positivo\n",
      "o valor de E é: 0\n"
     ]
    }
   ],
   "source": [
    "n = int(input(\"Digite um valor positivo\"))\n",
    "\n",
    "while n < 0:\n",
    "    print (\"favor colocar um valor positivo\")\n",
    "    break\n",
    "    \n",
    "e = 0 \n",
    "for i in range ( 1, n + 1):\n",
    "        e = e + (2 ** i)\n",
    "\n",
    "print (\"o valor de E é: \" + str(e))"
   ]
  },
  {
   "cell_type": "code",
   "execution_count": 151,
   "id": "9498f169-c236-4730-9c7d-aa387dd636aa",
   "metadata": {},
   "outputs": [
    {
     "name": "stdout",
     "output_type": "stream",
     "text": [
      "contador: 2\n",
      "2\n",
      "contador: 3\n",
      "6\n",
      "contador: 4\n",
      "12\n",
      "contador: 5\n",
      "20\n",
      "contador: 6\n",
      "30\n",
      "contador: 7\n",
      "42\n",
      "contador: 8\n",
      "56\n",
      "contador: 9\n",
      "72\n",
      "contador: 10\n",
      "90\n",
      "contador: 11\n",
      "110\n",
      "contador: 12\n",
      "132\n",
      "contador: 13\n",
      "156\n",
      "contador: 14\n",
      "182\n",
      "contador: 15\n",
      "210\n",
      "contador: 16\n",
      "240\n",
      "contador: 17\n",
      "272\n",
      "contador: 18\n",
      "306\n",
      "contador: 19\n",
      "342\n",
      "contador: 20\n",
      "380\n",
      "contador: 21\n",
      "420\n",
      "contador: 22\n",
      "462\n",
      "contador: 23\n",
      "506\n",
      "contador: 24\n",
      "552\n",
      "contador: 25\n",
      "600\n",
      "contador: 26\n",
      "650\n",
      "contador: 27\n",
      "702\n",
      "contador: 28\n",
      "756\n",
      "contador: 29\n",
      "812\n",
      "contador: 30\n",
      "870\n",
      "contador: 31\n",
      "930\n",
      "contador: 32\n",
      "992\n",
      "contador: 33\n",
      "1056\n",
      "contador: 34\n",
      "1122\n",
      "contador: 35\n",
      "1190\n",
      "contador: 36\n",
      "1260\n",
      "contador: 37\n",
      "1332\n",
      "contador: 38\n",
      "1406\n",
      "contador: 39\n",
      "1482\n",
      "contador: 40\n",
      "1560\n",
      "contador: 41\n",
      "1640\n",
      "contador: 42\n",
      "1722\n",
      "contador: 43\n",
      "1806\n",
      "contador: 44\n",
      "1892\n",
      "contador: 45\n",
      "1980\n",
      "contador: 46\n",
      "2070\n",
      "contador: 47\n",
      "2162\n",
      "contador: 48\n",
      "2256\n",
      "contador: 49\n",
      "2352\n",
      "contador: 50\n",
      "2450\n",
      "contador: 51\n",
      "2550\n"
     ]
    }
   ],
   "source": [
    "\n",
    "n = 2\n",
    "soma = 0\n",
    "cntdr = 1\n",
    "\n",
    "while cntdr <= 50:\n",
    "    if n % 2 == 0:\n",
    "        cntdr +=1 \n",
    "        soma = soma + n\n",
    "        print (\"contador: \" + str(cntdr))\n",
    "        print (str(soma))\n",
    "    n += 1 #adiciona um numero par\n",
    "    \n",
    "\n"
   ]
  },
  {
   "cell_type": "code",
   "execution_count": 153,
   "id": "3dfc54b8-e15e-47e5-a00f-8c34ae360faf",
   "metadata": {},
   "outputs": [
    {
     "name": "stdout",
     "output_type": "stream",
     "text": [
      "contador: 1\n",
      "2\n",
      "contador: 2\n",
      "6\n",
      "contador: 3\n",
      "12\n",
      "contador: 4\n",
      "20\n",
      "contador: 5\n",
      "30\n",
      "contador: 6\n",
      "42\n",
      "contador: 7\n",
      "56\n",
      "contador: 8\n",
      "72\n",
      "contador: 9\n",
      "90\n",
      "contador: 10\n",
      "110\n",
      "contador: 11\n",
      "132\n",
      "contador: 12\n",
      "156\n",
      "contador: 13\n",
      "182\n",
      "contador: 14\n",
      "210\n",
      "contador: 15\n",
      "240\n",
      "contador: 16\n",
      "272\n",
      "contador: 17\n",
      "306\n",
      "contador: 18\n",
      "342\n",
      "contador: 19\n",
      "380\n",
      "contador: 20\n",
      "420\n",
      "contador: 21\n",
      "462\n",
      "contador: 22\n",
      "506\n",
      "contador: 23\n",
      "552\n",
      "contador: 24\n",
      "600\n",
      "contador: 25\n",
      "650\n",
      "contador: 26\n",
      "702\n",
      "contador: 27\n",
      "756\n",
      "contador: 28\n",
      "812\n",
      "contador: 29\n",
      "870\n",
      "contador: 30\n",
      "930\n",
      "contador: 31\n",
      "992\n",
      "contador: 32\n",
      "1056\n",
      "contador: 33\n",
      "1122\n",
      "contador: 34\n",
      "1190\n",
      "contador: 35\n",
      "1260\n",
      "contador: 36\n",
      "1332\n",
      "contador: 37\n",
      "1406\n",
      "contador: 38\n",
      "1482\n",
      "contador: 39\n",
      "1560\n",
      "contador: 40\n",
      "1640\n",
      "contador: 41\n",
      "1722\n",
      "contador: 42\n",
      "1806\n",
      "contador: 43\n",
      "1892\n",
      "contador: 44\n",
      "1980\n",
      "contador: 45\n",
      "2070\n",
      "contador: 46\n",
      "2162\n",
      "contador: 47\n",
      "2256\n",
      "contador: 48\n",
      "2352\n",
      "contador: 49\n",
      "2450\n",
      "contador: 50\n",
      "2550\n"
     ]
    }
   ],
   "source": [
    "soma = 0\n",
    "n = 2  \n",
    "\n",
    "for cntdr in range(1, 51):  \n",
    "    soma = soma + n\n",
    "    print(\"contador: \" + str(cntdr))\n",
    "    print(str(soma))\n",
    "    n += 2  "
   ]
  },
  {
   "cell_type": "code",
   "execution_count": 4,
   "id": "c7bb6a96-2a4a-4f25-857c-8e03ac4bedc6",
   "metadata": {
    "scrolled": true
   },
   "outputs": [
    {
     "name": "stdin",
     "output_type": "stream",
     "text": [
      "Digite o peso da pessoa: \n",
      " 180\n",
      "Digite o altura da pessoa: \n",
      " 1.98\n",
      "Digite o peso da pessoa: \n",
      " 150\n",
      "Digite o altura da pessoa: \n",
      " 1.50\n",
      "Digite o peso da pessoa: \n",
      " 56\n",
      "Digite o altura da pessoa: \n",
      " 1.56\n",
      "Digite o peso da pessoa: \n",
      " 60\n",
      "Digite o altura da pessoa: \n",
      " 1.65\n",
      "Digite o peso da pessoa: \n",
      " 100\n",
      "Digite o altura da pessoa: \n",
      " 1.89\n"
     ]
    },
    {
     "name": "stdout",
     "output_type": "stream",
     "text": [
      "o peso medio é: 109.2\n",
      "\n",
      "a altura media é: 1.716\n",
      "\n",
      "o maior IMC é: 66.66666666666667\n",
      "\n",
      "o menor IMC é: 22.03856749311295\n",
      "\n"
     ]
    }
   ],
   "source": [
    "cnt = 0\n",
    "sps = 0\n",
    "sas = 0\n",
    "imcs = []\n",
    "\n",
    "\n",
    "while cnt < 5:\n",
    "    p = float(input(\"Digite o peso da pessoa: \\n\"))\n",
    "    a = float(input(\"Digite o altura da pessoa: \\n\"))\n",
    "    imc = p/(a*a)\n",
    "    imcs.append(imc) #adiciona o IMC a lista\n",
    "    cnt += 1\n",
    "    sps += p\n",
    "    sas += a\n",
    "\n",
    "psmd = sps/5\n",
    "almd = sas/5\n",
    "maximc = max(imcs)\n",
    "minimc = min(imcs)\n",
    "\n",
    "print (\"o peso medio é: \" + str(psmd) + \"\\n\")\n",
    "print (\"a altura media é: \" + str(almd) + \"\\n\")\n",
    "print (\"o maior IMC é: \" + str(maximc) + \"\\n\")\n",
    "print (\"o menor IMC é: \" + str(minimc) + \"\\n\")"
   ]
  },
  {
   "cell_type": "code",
   "execution_count": null,
   "id": "a14c6857-3d48-4e24-b118-bd5d8fe0e6de",
   "metadata": {},
   "outputs": [],
   "source": [
    "sps = 0\n",
    "sas = 0\n",
    "imcs = []\n",
    "\n",
    "for i in range(5)\n",
    "    p = float(input(\"Digite o peso da pessoa: \\n\"))\n",
    "    a = float(input(\"Digite o altura da pessoa: \\n\"))\n",
    "    imc = p/(a*a)\n",
    "    imcs.append(imc) #adiciona o IMC a lista\n",
    "    sps += p\n",
    "    sas += a\n",
    "\n",
    "psmd = sps/5\n",
    "almd = sas/5\n",
    "maximc = max(imcs)\n",
    "minimc = min(imcs)\n",
    "\n",
    "print (\"o peso medio é: \" + str(psmd) + \"\\n\")\n",
    "print (\"a altura media é: \" + str(almd) + \"\\n\")\n",
    "print (\"o maior IMC é: \" + str(maximc) + \"\\n\")\n",
    "print (\"o menor IMC é: \" + str(minimc) + \"\\n\")"
   ]
  },
  {
   "cell_type": "code",
   "execution_count": 11,
   "id": "2354d8de-2c71-448f-a96e-71821faec526",
   "metadata": {},
   "outputs": [
    {
     "name": "stdin",
     "output_type": "stream",
     "text": [
      "favor coloque um numero par 25\n"
     ]
    },
    {
     "name": "stdout",
     "output_type": "stream",
     "text": [
      "este número não é par >:(\n"
     ]
    },
    {
     "name": "stdin",
     "output_type": "stream",
     "text": [
      "favor coloque um numero par 22\n",
      "favor coloque um numero par 10\n",
      "favor coloque um numero par 30\n",
      "favor coloque um numero par 36\n",
      "favor coloque um numero par 52\n",
      "favor coloque um numero par 48\n",
      "favor coloque um numero par 30\n",
      "favor coloque um numero par 94\n",
      "favor coloque um numero par 52\n",
      "favor coloque um numero par 0\n"
     ]
    },
    {
     "name": "stdout",
     "output_type": "stream",
     "text": [
      "Zero detectado. Saindo...\n",
      "a média aritmerica: 41.55555555555556\n"
     ]
    }
   ],
   "source": [
    "n_par = []\n",
    "cntdr = 1\n",
    "\n",
    "while True:\n",
    "    n = int(input(\"favor coloque um numero par\"))\n",
    "    if n == 0:\n",
    "        print(\"Zero detectado. Saindo...\")\n",
    "        break\n",
    "    elif n % 2 == 0:\n",
    "        n_par.append(n)\n",
    "        cntdr +=1\n",
    "    else:\n",
    "        print(\"este número não é par >:(\")\n",
    "\n",
    "mda = sum(n_par)/len(n_par)\n",
    "print (\"média aritmerica:\", str(mda))"
   ]
  },
  {
   "cell_type": "code",
   "execution_count": null,
   "id": "a9738f6b-5495-428b-ae5b-487a68940c20",
   "metadata": {},
   "outputs": [],
   "source": [
    "n_par = []\n",
    "cntdr = 1\n",
    "\n",
    "for _ in range(100): \n",
    "    n = int(input(\"favor coloque um numero par\"))\n",
    "    if n == 0:\n",
    "        print(\"Zero detectado. Saindo...\")\n",
    "        break\n",
    "    elif n % 2 == 0:\n",
    "        n_par.append(n)\n",
    "        cntdr +=1\n",
    "    else:\n",
    "        print(\"este número não é par >:(\")\n",
    "\n",
    "mda = sum(n_par)/len(n_par)\n",
    "print (\"média aritmerica:\", str(mda))"
   ]
  },
  {
   "cell_type": "code",
   "execution_count": null,
   "id": "71268bec-d346-4699-a564-b3d3da066ca1",
   "metadata": {},
   "outputs": [],
   "source": [
    "import sys\n",
    "sys.set_int_max_str_digits(1000000)\n",
    "x = []\n",
    "qnst = \"\"\n",
    "def fat(n):\n",
    "    if n == 0 or n == 1:\n",
    "        return 1\n",
    "    else:\n",
    "        return n * fat(n - 1)\n",
    "\n",
    "while True:\n",
    "    qnst = input(\"gostaria de adicionar um numero inteiro a x? (sim/nao) \\n\")\n",
    "    if qnst == \"sim\":\n",
    "        ent = input(\"Digite um número inteiro:\\n\")\n",
    "        if ent.isdigit():\n",
    "            n = int(ent)\n",
    "            x.append(n)\n",
    "            print(\"Número adicionado com sucesso!\\n\")\n",
    "        else:\n",
    "            print(\"Este numero não é inteiro e não é possível adiciona-lo\\n\")\n",
    "    else:\n",
    "        fats = []\n",
    "        for n in x:\n",
    "            fats.append(fat(n))\n",
    "                \n",
    "        print (\"A lista de números desse conjunto de números é:\", str(x))\n",
    "        print (\"A fatorial desse conjunto de números é:\", str(fats))\n",
    "        break"
   ]
  },
  {
   "cell_type": "code",
   "execution_count": 6,
   "id": "3c645d64-b364-4036-a9a4-cf4fd95c63fc",
   "metadata": {},
   "outputs": [
    {
     "name": "stdin",
     "output_type": "stream",
     "text": [
      "gostaria de adicionar um numero inteiro a x? (sim/nao) \n",
      " sim\n",
      "Digite um número inteiro:\n",
      " 150\n"
     ]
    },
    {
     "name": "stdout",
     "output_type": "stream",
     "text": [
      "Número adicionado com sucesso!\n",
      "\n"
     ]
    },
    {
     "name": "stdin",
     "output_type": "stream",
     "text": [
      "gostaria de adicionar um numero inteiro a x? (sim/nao) \n",
      " sim\n",
      "Digite um número inteiro:\n",
      " 526\n"
     ]
    },
    {
     "name": "stdout",
     "output_type": "stream",
     "text": [
      "Número adicionado com sucesso!\n",
      "\n"
     ]
    },
    {
     "name": "stdin",
     "output_type": "stream",
     "text": [
      "gostaria de adicionar um numero inteiro a x? (sim/nao) \n",
      " sim\n",
      "Digite um número inteiro:\n",
      " 846\n"
     ]
    },
    {
     "name": "stdout",
     "output_type": "stream",
     "text": [
      "Número adicionado com sucesso!\n",
      "\n"
     ]
    },
    {
     "name": "stdin",
     "output_type": "stream",
     "text": [
      "gostaria de adicionar um numero inteiro a x? (sim/nao) \n",
      " sim\n",
      "Digite um número inteiro:\n",
      " 89565\n"
     ]
    },
    {
     "name": "stdout",
     "output_type": "stream",
     "text": [
      "Número adicionado com sucesso!\n",
      "\n"
     ]
    },
    {
     "name": "stdin",
     "output_type": "stream",
     "text": [
      "gostaria de adicionar um numero inteiro a x? (sim/nao) \n",
      " sim\n",
      "Digite um número inteiro:\n",
      " 565.96\n"
     ]
    },
    {
     "name": "stdout",
     "output_type": "stream",
     "text": [
      "Este numero não é inteiro e não é possível adiciona-lo\n",
      "\n"
     ]
    },
    {
     "name": "stdin",
     "output_type": "stream",
     "text": [
      "gostaria de adicionar um numero inteiro a x? (sim/nao) \n",
      " sim\n",
      "Digite um número inteiro:\n",
      " 564564\n"
     ]
    },
    {
     "name": "stdout",
     "output_type": "stream",
     "text": [
      "Número adicionado com sucesso!\n",
      "\n"
     ]
    },
    {
     "name": "stdin",
     "output_type": "stream",
     "text": [
      "gostaria de adicionar um numero inteiro a x? (sim/nao) \n",
      " nao\n"
     ]
    },
    {
     "ename": "RecursionError",
     "evalue": "maximum recursion depth exceeded",
     "output_type": "error",
     "traceback": [
      "\u001b[1;31m---------------------------------------------------------------------------\u001b[0m",
      "\u001b[1;31mRecursionError\u001b[0m                            Traceback (most recent call last)",
      "Cell \u001b[1;32mIn[6], line 24\u001b[0m\n\u001b[0;32m     22\u001b[0m fats \u001b[38;5;241m=\u001b[39m []\n\u001b[0;32m     23\u001b[0m \u001b[38;5;28;01mfor\u001b[39;00m n \u001b[38;5;129;01min\u001b[39;00m x:\n\u001b[1;32m---> 24\u001b[0m     fats\u001b[38;5;241m.\u001b[39mappend(fat(n))\n\u001b[0;32m     26\u001b[0m \u001b[38;5;28mprint\u001b[39m (\u001b[38;5;124m\"\u001b[39m\u001b[38;5;124mA lista de números desse conjunto de números é:\u001b[39m\u001b[38;5;124m\"\u001b[39m, \u001b[38;5;28mstr\u001b[39m(x))\n\u001b[0;32m     27\u001b[0m \u001b[38;5;28mprint\u001b[39m (\u001b[38;5;124m\"\u001b[39m\u001b[38;5;124mA fatorial desse conjunto de números é:\u001b[39m\u001b[38;5;124m\"\u001b[39m, \u001b[38;5;28mstr\u001b[39m(fats))\n",
      "Cell \u001b[1;32mIn[6], line 9\u001b[0m, in \u001b[0;36mfat\u001b[1;34m(n)\u001b[0m\n\u001b[0;32m      7\u001b[0m     \u001b[38;5;28;01mreturn\u001b[39;00m \u001b[38;5;241m1\u001b[39m\n\u001b[0;32m      8\u001b[0m \u001b[38;5;28;01melse\u001b[39;00m:\n\u001b[1;32m----> 9\u001b[0m     \u001b[38;5;28;01mreturn\u001b[39;00m n \u001b[38;5;241m*\u001b[39m fat(n \u001b[38;5;241m-\u001b[39m \u001b[38;5;241m1\u001b[39m)\n",
      "Cell \u001b[1;32mIn[6], line 9\u001b[0m, in \u001b[0;36mfat\u001b[1;34m(n)\u001b[0m\n\u001b[0;32m      7\u001b[0m     \u001b[38;5;28;01mreturn\u001b[39;00m \u001b[38;5;241m1\u001b[39m\n\u001b[0;32m      8\u001b[0m \u001b[38;5;28;01melse\u001b[39;00m:\n\u001b[1;32m----> 9\u001b[0m     \u001b[38;5;28;01mreturn\u001b[39;00m n \u001b[38;5;241m*\u001b[39m fat(n \u001b[38;5;241m-\u001b[39m \u001b[38;5;241m1\u001b[39m)\n",
      "    \u001b[1;31m[... skipping similar frames: fat at line 9 (2974 times)]\u001b[0m\n",
      "Cell \u001b[1;32mIn[6], line 9\u001b[0m, in \u001b[0;36mfat\u001b[1;34m(n)\u001b[0m\n\u001b[0;32m      7\u001b[0m     \u001b[38;5;28;01mreturn\u001b[39;00m \u001b[38;5;241m1\u001b[39m\n\u001b[0;32m      8\u001b[0m \u001b[38;5;28;01melse\u001b[39;00m:\n\u001b[1;32m----> 9\u001b[0m     \u001b[38;5;28;01mreturn\u001b[39;00m n \u001b[38;5;241m*\u001b[39m fat(n \u001b[38;5;241m-\u001b[39m \u001b[38;5;241m1\u001b[39m)\n",
      "\u001b[1;31mRecursionError\u001b[0m: maximum recursion depth exceeded"
     ]
    }
   ],
   "source": [
    "import sys\n",
    "sys.set_int_max_str_digits(1000000)\n",
    "x = []\n",
    "qnst = \"\"\n",
    "def fat(n):\n",
    "    if n == 0 or n == 1:\n",
    "        return 1\n",
    "    else:\n",
    "        return n * fat(n - 1)\n",
    "\n",
    "for _ in range(100):\n",
    "    qnst = input(\"gostaria de adicionar um numero inteiro a x? (sim/nao) \\n\")\n",
    "    if qnst == \"sim\":\n",
    "        ent = input(\"Digite um número inteiro:\\n\")\n",
    "        if ent.isdigit():\n",
    "            n = int(ent)\n",
    "            x.append(n)\n",
    "            print(\"Número adicionado com sucesso!\\n\")\n",
    "        else:\n",
    "            print(\"Este numero não é inteiro e não é possível adiciona-lo\\n\")\n",
    "    else:\n",
    "        fats = []\n",
    "        for n in x:\n",
    "            fats.append(fat(n))\n",
    "                \n",
    "        print (\"A lista de números desse conjunto de números é:\", str(x))\n",
    "        print (\"A fatorial desse conjunto de números é:\", str(fats))\n",
    "        break"
   ]
  },
  {
   "cell_type": "code",
   "execution_count": null,
   "id": "4e5582a9-b747-4091-9dea-6d927fb6b89a",
   "metadata": {},
   "outputs": [
    {
     "name": "stdin",
     "output_type": "stream",
     "text": [
      "Digite um numero maior que 1 \n",
      " 1\n"
     ]
    },
    {
     "name": "stdout",
     "output_type": "stream",
     "text": [
      "favor digitar um número maior que 1\n"
     ]
    },
    {
     "name": "stdin",
     "output_type": "stream",
     "text": [
      "Digite um numero maior que 1 \n",
      " 2\n"
     ]
    },
    {
     "name": "stdout",
     "output_type": "stream",
     "text": [
      "é um número primo\n"
     ]
    },
    {
     "name": "stdin",
     "output_type": "stream",
     "text": [
      "Digite um numero maior que 1 \n",
      " 3\n"
     ]
    },
    {
     "name": "stdout",
     "output_type": "stream",
     "text": [
      "não é um número primo\n"
     ]
    },
    {
     "name": "stdin",
     "output_type": "stream",
     "text": [
      "Digite um numero maior que 1 \n",
      " 4\n"
     ]
    },
    {
     "name": "stdout",
     "output_type": "stream",
     "text": [
      "é um número primo\n"
     ]
    },
    {
     "name": "stdin",
     "output_type": "stream",
     "text": [
      "Digite um numero maior que 1 \n",
      " 5\n"
     ]
    },
    {
     "name": "stdout",
     "output_type": "stream",
     "text": [
      "é um número primo\n"
     ]
    },
    {
     "name": "stdin",
     "output_type": "stream",
     "text": [
      "Digite um numero maior que 1 \n",
      " 6\n"
     ]
    },
    {
     "name": "stdout",
     "output_type": "stream",
     "text": [
      "não é um número primo\n"
     ]
    },
    {
     "name": "stdin",
     "output_type": "stream",
     "text": [
      "Digite um numero maior que 1 \n",
      " 8\n"
     ]
    },
    {
     "name": "stdout",
     "output_type": "stream",
     "text": [
      "é um número primo\n"
     ]
    }
   ],
   "source": [
    "\n",
    "n = 2\n",
    "soma = 0\n",
    "divisor = 3\n",
    "\n",
    "while True:\n",
    "    n = int(input(\"Digite um numero maior que 1 \\n\"))\n",
    "    if n % divisor == 0:\n",
    "        print(\"não é um número primo\")\n",
    "    elif n <= 1:\n",
    "        print(\"favor digitar um número maior que 1\")\n",
    "    else:\n",
    "        print(\"é um número primo\")\n",
    "\n",
    "\n"
   ]
  },
  {
   "cell_type": "code",
   "execution_count": null,
   "id": "cabb2c55-d972-4e5d-895a-3267f087dc4b",
   "metadata": {},
   "outputs": [],
   "source": [
    "\n",
    "\n",
    "n = 2\n",
    "soma = 0\n",
    "divisor = 3\n",
    "\n",
    "for _ in range (100):\n",
    "    n = int(input(\"Digite um numero maior que 1 \\n\"))\n",
    "    if n % divisor == 0:\n",
    "        print(\"não é um número primo\")\n",
    "    elif n <= 1:\n",
    "        print(\"favor digitar um número maior que 1\")\n",
    "    else:\n",
    "        print(\"é um número primo\")\n",
    "\n"
   ]
  },
  {
   "cell_type": "code",
   "execution_count": null,
   "id": "01711004-cd9e-45c4-bbf8-2f6ad13a7d64",
   "metadata": {},
   "outputs": [],
   "source": []
  }
 ],
 "metadata": {
  "kernelspec": {
   "display_name": "Python 3 (ipykernel)",
   "language": "python",
   "name": "python3"
  },
  "language_info": {
   "codemirror_mode": {
    "name": "ipython",
    "version": 3
   },
   "file_extension": ".py",
   "mimetype": "text/x-python",
   "name": "python",
   "nbconvert_exporter": "python",
   "pygments_lexer": "ipython3",
   "version": "3.13.5"
  }
 },
 "nbformat": 4,
 "nbformat_minor": 5
}
