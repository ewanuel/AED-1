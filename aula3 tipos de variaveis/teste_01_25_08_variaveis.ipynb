{
 "cells": [
  {
   "cell_type": "code",
   "execution_count": 1,
   "id": "cde20661-3c58-4039-a39d-3ff3b5d5650e",
   "metadata": {},
   "outputs": [
    {
     "name": "stdout",
     "output_type": "stream",
     "text": [
      "ola\n"
     ]
    }
   ],
   "source": [
    "print(\"ola\")\n"
   ]
  },
  {
   "cell_type": "code",
   "execution_count": 33,
   "id": "4bae2b0b-40a2-4672-9ca5-511faa73c86a",
   "metadata": {},
   "outputs": [
    {
     "name": "stdout",
     "output_type": "stream",
     "text": [
      "1.451214414239908e+70 \n",
      " 88.12\n"
     ]
    }
   ],
   "source": [
    "X = 45.9\n",
    "Y = 42.22\n",
    "Z = X**Y\n",
    "\n",
    "print(Z , '\\n',X+Y)"
   ]
  }
 ],
 "metadata": {
  "kernelspec": {
   "display_name": "Python [conda env:base] *",
   "language": "python",
   "name": "conda-base-py"
  },
  "language_info": {
   "codemirror_mode": {
    "name": "ipython",
    "version": 3
   },
   "file_extension": ".py",
   "mimetype": "text/x-python",
   "name": "python",
   "nbconvert_exporter": "python",
   "pygments_lexer": "ipython3",
   "version": "3.12.7"
  }
 },
 "nbformat": 4,
 "nbformat_minor": 5
}
