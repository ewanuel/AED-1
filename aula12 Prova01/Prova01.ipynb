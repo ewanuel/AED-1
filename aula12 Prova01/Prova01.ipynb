{
 "cells": [
  {
   "cell_type": "code",
   "execution_count": 19,
   "id": "fe81207c-adbd-4407-91e0-7ac88e75b2e0",
   "metadata": {},
   "outputs": [
    {
     "name": "stdout",
     "output_type": "stream",
     "text": [
      "Olá usuário, este é um sistema para calculo de media arimitrica dos dois maiores valores dentre três\n",
      "\n"
     ]
    },
    {
     "name": "stdin",
     "output_type": "stream",
     "text": [
      "Favor digite o primeiro valor (o valor tem que ser positivo)\n",
      " -21\n",
      "Favor digite o segundo valor (o valor tem que ser positivo)\n",
      " 321\n",
      "Favor digite o terceiro valor (o valor tem que ser positivo)\n",
      " 321\n"
     ]
    },
    {
     "name": "stdout",
     "output_type": "stream",
     "text": [
      "Erro: Todos os valores devem ser positivos!\n"
     ]
    }
   ],
   "source": [
    "print (\"Olá usuário, este é um sistema para calculo de media arimitrica dos dois maiores valores dentre três\\n\")\n",
    "\n",
    "try:\n",
    "    val_1 = int(input(\"Favor digite o primeiro valor (o valor tem que ser positivo)\\n\"))\n",
    "    val_2 = int(input(\"Favor digite o segundo valor (o valor tem que ser positivo)\\n\"))\n",
    "    val_3 = int(input(\"Favor digite o terceiro valor (o valor tem que ser positivo)\\n\"))\n",
    "    \n",
    "    if val_1 > 0 and val_2 > 0 and val_3 > 0:\n",
    "        menor_valor = min(val_1, val_2, val_3)\n",
    "    \n",
    "        if menor_valor == val_1:\n",
    "            media = (val_2 + val_3) / 2\n",
    "        elif menor_valor == val_2:\n",
    "            media = (val_1 + val_3) / 2\n",
    "        else:\n",
    "            media = (val_1 + val_2) / 2\n",
    "\n",
    "        print(f\"A média dos dois maiores valores é: {media:.2f}\")\n",
    "    \n",
    "    else:\n",
    "        print(\"Erro: Todos os valores devem ser positivos!\")\n",
    "\n",
    "except ValueError:\n",
    "     print(\"Erro: Todos os valores devem ser números inteiros!\")"
   ]
  },
  {
   "cell_type": "code",
   "execution_count": null,
   "id": "24bb9a80-3ad9-4849-bec2-63cd4d09a145",
   "metadata": {},
   "outputs": [],
   "source": []
  },
  {
   "cell_type": "code",
   "execution_count": null,
   "id": "57275005-864f-43de-8be6-6e58b55d010e",
   "metadata": {},
   "outputs": [],
   "source": []
  }
 ],
 "metadata": {
  "kernelspec": {
   "display_name": "Python [conda env:base] *",
   "language": "python",
   "name": "conda-base-py"
  },
  "language_info": {
   "codemirror_mode": {
    "name": "ipython",
    "version": 3
   },
   "file_extension": ".py",
   "mimetype": "text/x-python",
   "name": "python",
   "nbconvert_exporter": "python",
   "pygments_lexer": "ipython3",
   "version": "3.12.7"
  }
 },
 "nbformat": 4,
 "nbformat_minor": 5
}
