{
 "cells": [
  {
   "cell_type": "code",
   "execution_count": 25,
   "id": "e1bc123d-a3c9-47fe-8a37-a3fb4a1153dd",
   "metadata": {},
   "outputs": [
    {
     "name": "stdin",
     "output_type": "stream",
     "text": [
      "Favor digite uma idade [-1 para sair] -1\n"
     ]
    }
   ],
   "source": [
    "idade = []\n",
    "\n",
    "while True:\n",
    "    add_idade = int(input(\"Favor digite uma idade [-1 para sair]\"))\n",
    "    if add_idade == -1:\n",
    "        break\n",
    "    else:\n",
    "        idade.append(add_idade)\n",
    "\n",
    "if idade:\n",
    "    media = sum(idade)/ len(idade)\n",
    "    idade_tupla = tuple(idade)\n",
    "    quantidade_de_idade = len(idade_tupla)\n",
    "\n",
    "    print(f\"a media de idades é: {media}\")\n",
    "    print(f\"Quantidade de idades digitadas: {quantidade_de_idade}\")"
   ]
  },
  {
   "cell_type": "code",
   "execution_count": 59,
   "id": "5e164dfe-e1fe-4ddc-9ff6-d20aaf8b608c",
   "metadata": {},
   "outputs": [
    {
     "name": "stdin",
     "output_type": "stream",
     "text": [
      "Digite o Sobrenome fdsa\n",
      "Digite a idade 421\n",
      "Digite o Sobrenome afd\n",
      "Digite a idade 421\n",
      "Digite o Sobrenome fsda\n",
      "Digite a idade 324\n",
      "Digite o Sobrenome ewr\n",
      "Digite a idade 4123\n",
      "Digite o Sobrenome fasd\n",
      "Digite a idade 4321\n"
     ]
    },
    {
     "name": "stdout",
     "output_type": "stream",
     "text": [
      "a pessoa c maior idade é fasd\n"
     ]
    }
   ],
   "source": [
    "pessoas = {}\n",
    "for i in range (5):\n",
    "    sobrenome = input(\"Digite o Sobrenome\")\n",
    "    idade = int(input(\"Digite a idade\"))\n",
    "    pessoas[sobrenome] = idade\n",
    "\n",
    "idades = []\n",
    "sobrenomes = []\n",
    "\n",
    "for s, i in pessoas.items():\n",
    "    idades.append(i)\n",
    "    sobrenomes.append(s)\n",
    "maior = max(idades)\n",
    "indice_maior = idades.index(maior)\n",
    "print(f\"a pessoa c maior idade é {sobrenomes[indice_maior]}\")\n"
   ]
  },
  {
   "cell_type": "code",
   "execution_count": 1,
   "id": "d5079474-5a5f-41ae-9706-ec73856cfa4e",
   "metadata": {},
   "outputs": [
    {
     "name": "stdin",
     "output_type": "stream",
     "text": [
      "Favor digite uma frase qualquer Amanhã vai ser outro dia Amanhã vai ser outro dia Amanhã vai ser outro dia\n"
     ]
    },
    {
     "name": "stdout",
     "output_type": "stream",
     "text": [
      "{'Amanhã': 3, 'vai': 3, 'ser': 3, 'outro': 3, 'dia': 3}\n"
     ]
    }
   ],
   "source": [
    "#desafio 1\n",
    "\n",
    "frase = input(\"Favor digite uma frase qualquer\")\n",
    "palavras = frase.split()\n",
    "\n",
    "contagem = {}\n",
    "for palavra in palavras:\n",
    "    contagem[palavra] = contagem.get(palavra, 0) + 1\n",
    "\n",
    "print(contagem)\n"
   ]
  },
  {
   "cell_type": "code",
   "execution_count": 1,
   "id": "d9de8de6-3dee-4f73-abb8-bfd667008631",
   "metadata": {},
   "outputs": [
    {
     "name": "stdout",
     "output_type": "stream",
     "text": [
      "Total de vendas: R$ 8652.30\n",
      "Venda média: R$ 1730.46\n",
      "Maior venda: R$ 3100.00 realizada por Beatriz\n",
      "Vendas por vendedor: {'Ana': 2300.75, 'Carlos': 3251.55, 'Beatriz': 3100.0}\n",
      "Melhor vendedor: Carlos com R$ 3251.55\n",
      "Vendedores sem venda: ['Daniel', 'Eduarda']\n"
     ]
    }
   ],
   "source": [
    "#desafio 2\n",
    "\n",
    "def analise_vendas(vendas, vendedores_vendas, todos_vendedores):\n",
    "    total_vendas = sum(vendas)\n",
    "    venda_media = total_vendas / len(vendas) if vendas else 0\n",
    "    \n",
    "    maior_venda = max(vendas) if vendas else 0\n",
    "    indice_maior_venda = vendas.index(maior_venda) if vendas else -1\n",
    "    vendedor_maior_venda = vendedores_vendas[indice_maior_venda] if indice_maior_venda != -1 else \"Nenhum\"\n",
    "    \n",
    "    vendas_por_vendedor = {}\n",
    "    for i in range(len(vendas)):\n",
    "        vendedor = vendedores_vendas[i]\n",
    "        valor = vendas[i]\n",
    "        if vendedor in vendas_por_vendedor:\n",
    "            vendas_por_vendedor[vendedor] += valor\n",
    "        else:\n",
    "            vendas_por_vendedor[vendedor] = valor\n",
    "    \n",
    "    vendedor_maior_faturamento = \"\"\n",
    "    maior_faturamento = 0\n",
    "    for vendedor, total in vendas_por_vendedor.items():\n",
    "        if total > maior_faturamento:\n",
    "            maior_faturamento = total\n",
    "            vendedor_maior_faturamento = vendedor\n",
    "    \n",
    "    vendedores_sem_venda = []\n",
    "    for vendedor in todos_vendedores:\n",
    "        if vendedor not in vendas_por_vendedor:\n",
    "            vendedores_sem_venda.append(vendedor)\n",
    "    \n",
    "    return {\n",
    "        'total_vendas': total_vendas,\n",
    "        'venda_media': venda_media,\n",
    "        'maior_venda': (maior_venda, vendedor_maior_venda),\n",
    "        'vendas_por_vendedor': vendas_por_vendedor,\n",
    "        'melhor_vendedor': (vendedor_maior_faturamento, maior_faturamento),\n",
    "        'vendedores_sem_venda': vendedores_sem_venda\n",
    "    }\n",
    "\n",
    "vendas = [1500.50, 2300.75, 800.25, 3100.00, 950.80]\n",
    "vendedores = [\"Ana\", \"Carlos\", \"Ana\", \"Beatriz\", \"Carlos\"]\n",
    "todos_vendedores = [\"Ana\", \"Beatriz\", \"Carlos\", \"Daniel\", \"Eduarda\"]\n",
    "\n",
    "resultado = analise_vendas(vendas, vendedores, todos_vendedores)\n",
    "\n",
    "print(f\"Total de vendas: R$ {resultado['total_vendas']:.2f}\")\n",
    "print(f\"Venda média: R$ {resultado['venda_media']:.2f}\")\n",
    "print(f\"Maior venda: R$ {resultado['maior_venda'][0]:.2f} realizada por {resultado['maior_venda'][1]}\")\n",
    "print(f\"Vendas por vendedor: {resultado['vendas_por_vendedor']}\")\n",
    "print(f\"Melhor vendedor: {resultado['melhor_vendedor'][0]} com R$ {resultado['melhor_vendedor'][1]:.2f}\")\n",
    "print(f\"Vendedores sem venda: {resultado['vendedores_sem_venda']}\")"
   ]
  },
  {
   "cell_type": "code",
   "execution_count": null,
   "id": "378e5da3-2f65-4bb8-a36c-cf243099f1c0",
   "metadata": {},
   "outputs": [],
   "source": []
  }
 ],
 "metadata": {
  "kernelspec": {
   "display_name": "Python 3 (ipykernel)",
   "language": "python",
   "name": "python3"
  },
  "language_info": {
   "codemirror_mode": {
    "name": "ipython",
    "version": 3
   },
   "file_extension": ".py",
   "mimetype": "text/x-python",
   "name": "python",
   "nbconvert_exporter": "python",
   "pygments_lexer": "ipython3",
   "version": "3.13.5"
  }
 },
 "nbformat": 4,
 "nbformat_minor": 5
}
