{
 "cells": [
  {
   "cell_type": "code",
   "execution_count": 25,
   "id": "e1bc123d-a3c9-47fe-8a37-a3fb4a1153dd",
   "metadata": {},
   "outputs": [
    {
     "name": "stdin",
     "output_type": "stream",
     "text": [
      "Favor digite uma idade [-1 para sair] -1\n"
     ]
    }
   ],
   "source": [
    "idade = []\n",
    "\n",
    "while True:\n",
    "    add_idade = int(input(\"Favor digite uma idade [-1 para sair]\"))\n",
    "    if add_idade == -1:\n",
    "        break\n",
    "    else:\n",
    "        idade.append(add_idade)\n",
    "\n",
    "if idade:\n",
    "    media = sum(idade)/ len(idade)\n",
    "    idade_tupla = tuple(idade)\n",
    "    quantidade_de_idade = len(idade_tupla)\n",
    "\n",
    "    print(f\"a media de idades é: {media}\")\n",
    "    print(f\"Quantidade de idades digitadas: {quantidade_de_idade}\")"
   ]
  },
  {
   "cell_type": "code",
   "execution_count": 59,
   "id": "5e164dfe-e1fe-4ddc-9ff6-d20aaf8b608c",
   "metadata": {},
   "outputs": [
    {
     "name": "stdin",
     "output_type": "stream",
     "text": [
      "Digite o Sobrenome fdsa\n",
      "Digite a idade 421\n",
      "Digite o Sobrenome afd\n",
      "Digite a idade 421\n",
      "Digite o Sobrenome fsda\n",
      "Digite a idade 324\n",
      "Digite o Sobrenome ewr\n",
      "Digite a idade 4123\n",
      "Digite o Sobrenome fasd\n",
      "Digite a idade 4321\n"
     ]
    },
    {
     "name": "stdout",
     "output_type": "stream",
     "text": [
      "a pessoa c maior idade é fasd\n"
     ]
    }
   ],
   "source": [
    "pessoas = {}\n",
    "for i in range (5):\n",
    "    sobrenome = input(\"Digite o Sobrenome\")\n",
    "    idade = int(input(\"Digite a idade\"))\n",
    "    pessoas[sobrenome] = idade\n",
    "\n",
    "idades = []\n",
    "sobrenomes = []\n",
    "\n",
    "for s, i in pessoas.items():\n",
    "    idades.append(i)\n",
    "    sobrenomes.append(s)\n",
    "maior = max(idades)\n",
    "indice_maior = idades.index(maior)\n",
    "print(f\"a pessoa c maior idade é {sobrenomes[indice_maior]}\")\n"
   ]
  },
  {
   "cell_type": "code",
   "execution_count": 47,
   "id": "120ef1c4-1f12-4986-b59e-25f8d3a1b157",
   "metadata": {},
   "outputs": [
    {
     "data": {
      "text/plain": [
       "213"
      ]
     },
     "execution_count": 47,
     "metadata": {},
     "output_type": "execute_result"
    }
   ],
   "source": [
    "idade\n"
   ]
  },
  {
   "cell_type": "code",
   "execution_count": 51,
   "id": "5a88aced-9a48-46af-951e-572e8867404d",
   "metadata": {},
   "outputs": [
    {
     "data": {
      "text/plain": [
       "{'Jaime': 231, 'adas': 213, 'dasj': 21, 'pfojs': 123, 'kfeow': 213}"
      ]
     },
     "execution_count": 51,
     "metadata": {},
     "output_type": "execute_result"
    }
   ],
   "source": [
    "pessoas"
   ]
  },
  {
   "cell_type": "code",
   "execution_count": null,
   "id": "d5079474-5a5f-41ae-9706-ec73856cfa4e",
   "metadata": {},
   "outputs": [],
   "source": []
  }
 ],
 "metadata": {
  "kernelspec": {
   "display_name": "Python [conda env:base] *",
   "language": "python",
   "name": "conda-base-py"
  },
  "language_info": {
   "codemirror_mode": {
    "name": "ipython",
    "version": 3
   },
   "file_extension": ".py",
   "mimetype": "text/x-python",
   "name": "python",
   "nbconvert_exporter": "python",
   "pygments_lexer": "ipython3",
   "version": "3.12.7"
  }
 },
 "nbformat": 4,
 "nbformat_minor": 5
}
