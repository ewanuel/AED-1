{
 "cells": [
  {
   "cell_type": "code",
   "execution_count": 8,
   "id": "aac2559e-c839-460d-9752-6b25de3cc639",
   "metadata": {},
   "outputs": [
    {
     "name": "stdin",
     "output_type": "stream",
     "text": [
      "Qual é seu nome? \n",
      " emanue\n",
      "Qual é sua idade? \n",
      " 1223\n"
     ]
    },
    {
     "name": "stdout",
     "output_type": "stream",
     "text": [
      "seu nome é: emanue sua idade é: 1223\n"
     ]
    }
   ],
   "source": [
    "nome = input(\"Qual é seu nome? \\n\")\n",
    "idade = input(\"Qual é sua idade? \\n\")\n",
    "print(\"seu nome é: \" + nome + \" sua idade é: \" + idade)"
   ]
  },
  {
   "cell_type": "code",
   "execution_count": 10,
   "id": "b90ba81f-93a5-4e27-8eb5-a20006925970",
   "metadata": {},
   "outputs": [
    {
     "name": "stdin",
     "output_type": "stream",
     "text": [
      "Qual é seu nome? \n",
      " Emanuel\n"
     ]
    },
    {
     "name": "stdout",
     "output_type": "stream",
     "text": [
      " 🌞 Bom dia Senhor(a) Emanuel\n"
     ]
    }
   ],
   "source": [
    "nome = input(\"Qual é seu nome? \\n\")\n",
    "print(\" 🌞 Bom dia Senhor(a) \" + nome )"
   ]
  },
  {
   "cell_type": "code",
   "execution_count": 14,
   "id": "801f4814-1997-4708-a826-24ef62303473",
   "metadata": {},
   "outputs": [
    {
     "name": "stdin",
     "output_type": "stream",
     "text": [
      "Qual é sua idade? \n",
      " 21\n"
     ]
    },
    {
     "name": "stdout",
     "output_type": "stream",
     "text": [
      "Você tem: 21 anos 252 meses 1092 semanas 7665 dias vividos 📅\n"
     ]
    }
   ],
   "source": [
    "idade = int(input(\"Qual é sua idade? \\n\"))\n",
    "idade_mes = idade*12\n",
    "idade_dias = idade*365\n",
    "idade_semanas = idade*52\n",
    "\n",
    "print(\"Você tem: \" + str(idade) + \" anos \" + str(idade_mes) + \" meses \" + str(idade_semanas) + \" semanas \" + str(idade_dias) + \" dias vividos 📅\" )\n"
   ]
  },
  {
   "cell_type": "code",
   "execution_count": 24,
   "id": "98eaa6cf-d0d5-453f-b6f0-77e31c94635e",
   "metadata": {},
   "outputs": [
    {
     "name": "stdin",
     "output_type": "stream",
     "text": [
      "Qual é seu salario atual? \n",
      " 10\n"
     ]
    },
    {
     "name": "stdout",
     "output_type": "stream",
     "text": [
      "seu salario atual com 25% de aumento é: 12.5\n"
     ]
    }
   ],
   "source": [
    "salario = float(input(\"Qual é seu salario atual? \\n\"))\n",
    "aumento = salario * (25 / 100)\n",
    "calculo = salario + aumento\n",
    "\n",
    "print(\"📈seu salario atual com 25% de aumento é: \" + str(calculo))"
   ]
  },
  {
   "cell_type": "code",
   "execution_count": 27,
   "id": "4f78ac17-f326-44f3-926b-b786ab52e86f",
   "metadata": {},
   "outputs": [
    {
     "name": "stdin",
     "output_type": "stream",
     "text": [
      "Qual é seu salario atual? \n",
      " 100\n",
      "Qual é o aumento para o proximo mês? \n",
      " 10\n"
     ]
    },
    {
     "name": "stdout",
     "output_type": "stream",
     "text": [
      "📈seu salario atual com 10.0 de aumento é: 110.0\n"
     ]
    }
   ],
   "source": [
    "salario = float(input(\"Qual é seu salario atual? \\n\"))\n",
    "aumento = float(input(\"Qual é o aumento em porcentagem para o proximo mês? \\n\"))\n",
    "calculo1 = salario * (aumento / 100)\n",
    "calculo2 = salario + calculo1\n",
    "\n",
    "print(\"📈seu salario atual com \" + str(aumento) +  \" de aumento é: \" + str(calculo2))"
   ]
  },
  {
   "cell_type": "code",
   "execution_count": 1,
   "id": "1d2c74bf-63ea-465f-8b83-d5172755e48b",
   "metadata": {},
   "outputs": [
    {
     "name": "stdin",
     "output_type": "stream",
     "text": [
      "Qual é seu deposito? \n",
      " 100\n",
      "Qual é a taxa de juros em %? \n",
      " 12\n"
     ]
    },
    {
     "name": "stdout",
     "output_type": "stream",
     "text": [
      "Desposito inicial: R$100.0\n",
      "Juros: %12.0\n",
      "Rendimento: R$12.0\n",
      "Total após o rendimento: R$112.0\n"
     ]
    }
   ],
   "source": [
    "deposito = float(input(\"Qual é seu deposito? \\n\"))\n",
    "juros = float(input(\"Qual é a taxa de juros em %? \\n\"))\n",
    "rendimento = deposito * (juros / 100)\n",
    "var_total = deposito + rendimento\n",
    "\n",
    "print(\"Desposito inicial: R$\" + str(deposito))\n",
    "print(\"Juros: %\" + str(juros))\n",
    "print(\"Rendimento: R$\" + str(rendimento))\n",
    "print(\"Total após o rendimento: R$\" + str(var_total))\n"
   ]
  },
  {
   "cell_type": "code",
   "execution_count": 2,
   "id": "38844c9d-cfee-4e73-926b-fbea28ef0644",
   "metadata": {},
   "outputs": [
    {
     "name": "stdin",
     "output_type": "stream",
     "text": [
      "Qual a base do triangulo? 12\n",
      "Qual a altura do triangulo? 20\n"
     ]
    },
    {
     "name": "stdout",
     "output_type": "stream",
     "text": [
      "A area do triangulo é: 120.0\n"
     ]
    }
   ],
   "source": [
    "base = float(input(\"Qual a base do triangulo?\"))\n",
    "altura = float(input(\"Qual a altura do triangulo?\"))\n",
    "area = (base*altura)/2\n",
    "\n",
    "print(\"A área do triangulo é: \" + str(area))"
   ]
  },
  {
   "cell_type": "code",
   "execution_count": 3,
   "id": "09fc5b7c-af28-421d-b6f4-8b33ed0893ff",
   "metadata": {},
   "outputs": [
    {
     "name": "stdin",
     "output_type": "stream",
     "text": [
      "qual o raio do circulo? 10\n"
     ]
    },
    {
     "name": "stdout",
     "output_type": "stream",
     "text": [
      "A área do circulo é: 314.15000000000003\n"
     ]
    }
   ],
   "source": [
    "\n",
    "pi = 3.1415\n",
    "raio = float(input(\"qual o raio do circulo?\"))\n",
    "area = pi*(raio**2)\n",
    "\n",
    "print(\"A área do circulo é: \" + str(area))\n"
   ]
  },
  {
   "cell_type": "code",
   "execution_count": 14,
   "id": "51ca44d6-eece-4c66-a31b-66d79dfe583c",
   "metadata": {},
   "outputs": [
    {
     "name": "stdin",
     "output_type": "stream",
     "text": [
      "Coloque o valor em pés \n",
      "  10\n",
      "Selecione uma opção: \n",
      " A - polegadas \n",
      " B - jardas \n",
      " C - milhas C\n"
     ]
    },
    {
     "name": "stdout",
     "output_type": "stream",
     "text": [
      "convertido em milhas o valor é 0.001893939393939394\n"
     ]
    }
   ],
   "source": [
    "val = float(input(\"Coloque o valor em pés \\n \"))\n",
    "opc = input(\"Selecione uma opção: \\n A - polegadas \\n B - jardas \\n C - milhas\")\n",
    "nval = \"\"\n",
    "\n",
    "if opc == \"A\":\n",
    "    nval = val*12\n",
    "    print(\"convertido em polegas o valor é \" + str(nval))\n",
    "elif opc == \"B\":\n",
    "    nval = val/ 3\n",
    "    print(\"convertido em jardas o valor é \" + str(nval))\n",
    "elif opc == \"C\":\n",
    "    nval = val/ 5280 \n",
    "    print(\"convertido em milhas o valor é \" + str(nval))\n",
    "else:\n",
    "    print(\"Opção inválida!\")"
   ]
  },
  {
   "cell_type": "code",
   "execution_count": 18,
   "id": "264809fb-766b-406c-8340-b22b665a854a",
   "metadata": {},
   "outputs": [
    {
     "name": "stdin",
     "output_type": "stream",
     "text": [
      "Quantos cm tem os degrais? 150\n",
      "Quantos metros você deseja subir? 150\n"
     ]
    },
    {
     "name": "stdout",
     "output_type": "stream",
     "text": [
      "voce precisa subir 100.0 degrais para alcançar 150.0metros\n"
     ]
    }
   ],
   "source": [
    "import math\n",
    "\n",
    "cmdr = float(input(\"Quantos cm tem os degrais?\"))\n",
    "mscd = float(input(\"Quantos metros você deseja subir?\"))\n",
    "altcm = mscd*100\n",
    "drg = altcm/cmdr\n",
    "\n",
    "print (\"voce precisa subir \" + str(drg) + \" degrais para alcançar \" + str(mscd) + \" metros\")"
   ]
  },
  {
   "cell_type": "code",
   "execution_count": null,
   "id": "570b5519-2d89-4cb5-b26e-93c3646649cd",
   "metadata": {},
   "outputs": [],
   "source": []
  }
 ],
 "metadata": {
  "kernelspec": {
   "display_name": "Python 3 (ipykernel)",
   "language": "python",
   "name": "python3"
  },
  "language_info": {
   "codemirror_mode": {
    "name": "ipython",
    "version": 3
   },
   "file_extension": ".py",
   "mimetype": "text/x-python",
   "name": "python",
   "nbconvert_exporter": "python",
   "pygments_lexer": "ipython3",
   "version": "3.13.5"
  }
 },
 "nbformat": 4,
 "nbformat_minor": 5
}
