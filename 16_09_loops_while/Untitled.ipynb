{
 "cells": [
  {
   "cell_type": "code",
   "execution_count": 13,
   "id": "65fefc76-868c-4484-baa8-90d5f60d635e",
   "metadata": {},
   "outputs": [
    {
     "name": "stdin",
     "output_type": "stream",
     "text": [
      "Entre com a idade1 : 3\n",
      "Entre com a idade2 : 4\n",
      "Entre com a idade3 : 5\n",
      "Entre com a idade4 : 61\n",
      "Entre com a idade5 : 23\n"
     ]
    },
    {
     "name": "stdout",
     "output_type": "stream",
     "text": [
      "A media das idades é:  19.2\n"
     ]
    }
   ],
   "source": [
    "soma = 0\n",
    "i = 1\n",
    "while i<=5:\n",
    "    idade = int(input(\"Entre com a idade\" + str(i) + \" :\"))\n",
    "    soma = soma + idade\n",
    "    i = i + 1\n",
    "media = soma/5\n",
    "print(\"A media das idades é: \", media)"
   ]
  },
  {
   "cell_type": "code",
   "execution_count": 9,
   "id": "3b284026-d146-49c3-97fe-006e422f689f",
   "metadata": {},
   "outputs": [
    {
     "name": "stdout",
     "output_type": "stream",
     "text": [
      "Olá!\n",
      "Olá!\n",
      "Olá!\n",
      "Olá!\n",
      "Olá!\n"
     ]
    }
   ],
   "source": [
    "for i in range (1,6):\n",
    "    print(\"Olá!\")"
   ]
  },
  {
   "cell_type": "code",
   "execution_count": 15,
   "id": "43735993-6dda-4eda-b7c3-34181ef284cd",
   "metadata": {},
   "outputs": [
    {
     "name": "stdout",
     "output_type": "stream",
     "text": [
      "10\n",
      "9\n",
      "8\n",
      "7\n",
      "6\n",
      "5\n",
      "4\n",
      "3\n",
      "2\n",
      "1\n"
     ]
    }
   ],
   "source": [
    "for i in range(10, 0, -1):\n",
    "    print (i)"
   ]
  },
  {
   "cell_type": "code",
   "execution_count": 67,
   "id": "76bb0d19-22df-4ac9-b299-32d2dfeb06a1",
   "metadata": {},
   "outputs": [
    {
     "name": "stdin",
     "output_type": "stream",
     "text": [
      "Digite um valor positivo 2\n"
     ]
    },
    {
     "name": "stdout",
     "output_type": "stream",
     "text": [
      "o valor de E é: 6\n"
     ]
    }
   ],
   "source": [
    "n = int(input(\"Digite um valor positivo\"))\n",
    "\n",
    "while n < 0:\n",
    "    print (\"favor colocar um valor positivo\")\n",
    "    break\n",
    "\n",
    "while n >= 0:\n",
    "    e = 0 \n",
    "\n",
    "    for i in range ( 1, n + 1):\n",
    "        e = e + (2 ** i)\n",
    "\n",
    "    print(\"o valor de E é: \" + str(e))\n",
    "    break"
   ]
  },
  {
   "cell_type": "code",
   "execution_count": 69,
   "id": "88fdb0b3-b7b5-477e-a9ba-33ab9d787943",
   "metadata": {},
   "outputs": [
    {
     "name": "stdin",
     "output_type": "stream",
     "text": [
      "Digite um valor positivo -1\n"
     ]
    },
    {
     "name": "stdout",
     "output_type": "stream",
     "text": [
      "favor colocar um valor positivo\n",
      "o valor de E é: 0\n"
     ]
    }
   ],
   "source": [
    "n = int(input(\"Digite um valor positivo\"))\n",
    "\n",
    "while n < 0:\n",
    "    print (\"favor colocar um valor positivo\")\n",
    "    break\n",
    "    \n",
    "e = 0 \n",
    "for i in range ( 1, n + 1):\n",
    "        e = e + (2 ** i)\n",
    "\n",
    "print (\"o valor de E é: \" + str(e))"
   ]
  },
  {
   "cell_type": "code",
   "execution_count": 151,
   "id": "9498f169-c236-4730-9c7d-aa387dd636aa",
   "metadata": {},
   "outputs": [
    {
     "name": "stdout",
     "output_type": "stream",
     "text": [
      "contador: 2\n",
      "2\n",
      "contador: 3\n",
      "6\n",
      "contador: 4\n",
      "12\n",
      "contador: 5\n",
      "20\n",
      "contador: 6\n",
      "30\n",
      "contador: 7\n",
      "42\n",
      "contador: 8\n",
      "56\n",
      "contador: 9\n",
      "72\n",
      "contador: 10\n",
      "90\n",
      "contador: 11\n",
      "110\n",
      "contador: 12\n",
      "132\n",
      "contador: 13\n",
      "156\n",
      "contador: 14\n",
      "182\n",
      "contador: 15\n",
      "210\n",
      "contador: 16\n",
      "240\n",
      "contador: 17\n",
      "272\n",
      "contador: 18\n",
      "306\n",
      "contador: 19\n",
      "342\n",
      "contador: 20\n",
      "380\n",
      "contador: 21\n",
      "420\n",
      "contador: 22\n",
      "462\n",
      "contador: 23\n",
      "506\n",
      "contador: 24\n",
      "552\n",
      "contador: 25\n",
      "600\n",
      "contador: 26\n",
      "650\n",
      "contador: 27\n",
      "702\n",
      "contador: 28\n",
      "756\n",
      "contador: 29\n",
      "812\n",
      "contador: 30\n",
      "870\n",
      "contador: 31\n",
      "930\n",
      "contador: 32\n",
      "992\n",
      "contador: 33\n",
      "1056\n",
      "contador: 34\n",
      "1122\n",
      "contador: 35\n",
      "1190\n",
      "contador: 36\n",
      "1260\n",
      "contador: 37\n",
      "1332\n",
      "contador: 38\n",
      "1406\n",
      "contador: 39\n",
      "1482\n",
      "contador: 40\n",
      "1560\n",
      "contador: 41\n",
      "1640\n",
      "contador: 42\n",
      "1722\n",
      "contador: 43\n",
      "1806\n",
      "contador: 44\n",
      "1892\n",
      "contador: 45\n",
      "1980\n",
      "contador: 46\n",
      "2070\n",
      "contador: 47\n",
      "2162\n",
      "contador: 48\n",
      "2256\n",
      "contador: 49\n",
      "2352\n",
      "contador: 50\n",
      "2450\n",
      "contador: 51\n",
      "2550\n"
     ]
    }
   ],
   "source": [
    "\n",
    "n = 2\n",
    "soma = 0\n",
    "cntdr = 1\n",
    "\n",
    "while cntdr <= 50:\n",
    "    if n % 2 == 0:\n",
    "        cntdr +=1 \n",
    "        soma = soma + n\n",
    "        print (\"contador: \" + str(cntdr))\n",
    "        print (str(soma))\n",
    "    n += 1 #adiciona um numero par\n",
    "    \n",
    "\n"
   ]
  },
  {
   "cell_type": "code",
   "execution_count": 153,
   "id": "3dfc54b8-e15e-47e5-a00f-8c34ae360faf",
   "metadata": {},
   "outputs": [
    {
     "name": "stdout",
     "output_type": "stream",
     "text": [
      "contador: 1\n",
      "2\n",
      "contador: 2\n",
      "6\n",
      "contador: 3\n",
      "12\n",
      "contador: 4\n",
      "20\n",
      "contador: 5\n",
      "30\n",
      "contador: 6\n",
      "42\n",
      "contador: 7\n",
      "56\n",
      "contador: 8\n",
      "72\n",
      "contador: 9\n",
      "90\n",
      "contador: 10\n",
      "110\n",
      "contador: 11\n",
      "132\n",
      "contador: 12\n",
      "156\n",
      "contador: 13\n",
      "182\n",
      "contador: 14\n",
      "210\n",
      "contador: 15\n",
      "240\n",
      "contador: 16\n",
      "272\n",
      "contador: 17\n",
      "306\n",
      "contador: 18\n",
      "342\n",
      "contador: 19\n",
      "380\n",
      "contador: 20\n",
      "420\n",
      "contador: 21\n",
      "462\n",
      "contador: 22\n",
      "506\n",
      "contador: 23\n",
      "552\n",
      "contador: 24\n",
      "600\n",
      "contador: 25\n",
      "650\n",
      "contador: 26\n",
      "702\n",
      "contador: 27\n",
      "756\n",
      "contador: 28\n",
      "812\n",
      "contador: 29\n",
      "870\n",
      "contador: 30\n",
      "930\n",
      "contador: 31\n",
      "992\n",
      "contador: 32\n",
      "1056\n",
      "contador: 33\n",
      "1122\n",
      "contador: 34\n",
      "1190\n",
      "contador: 35\n",
      "1260\n",
      "contador: 36\n",
      "1332\n",
      "contador: 37\n",
      "1406\n",
      "contador: 38\n",
      "1482\n",
      "contador: 39\n",
      "1560\n",
      "contador: 40\n",
      "1640\n",
      "contador: 41\n",
      "1722\n",
      "contador: 42\n",
      "1806\n",
      "contador: 43\n",
      "1892\n",
      "contador: 44\n",
      "1980\n",
      "contador: 45\n",
      "2070\n",
      "contador: 46\n",
      "2162\n",
      "contador: 47\n",
      "2256\n",
      "contador: 48\n",
      "2352\n",
      "contador: 49\n",
      "2450\n",
      "contador: 50\n",
      "2550\n"
     ]
    }
   ],
   "source": [
    "soma = 0\n",
    "n = 2  \n",
    "\n",
    "for cntdr in range(1, 51):  \n",
    "    soma = soma + n\n",
    "    print(\"contador: \" + str(cntdr))\n",
    "    print(str(soma))\n",
    "    n += 2  "
   ]
  },
  {
   "cell_type": "code",
   "execution_count": 199,
   "id": "c7bb6a96-2a4a-4f25-857c-8e03ac4bedc6",
   "metadata": {},
   "outputs": [
    {
     "name": "stdin",
     "output_type": "stream",
     "text": [
      "Digite o peso da pessoa: \n",
      " 6\n",
      "Digite o peso da pessoa: \n",
      " 89\n",
      "Digite o peso da pessoa: \n",
      " 9\n",
      "Digite o peso da pessoa: \n",
      " 90\n",
      "Digite o peso da pessoa: \n",
      " 9\n"
     ]
    },
    {
     "name": "stdout",
     "output_type": "stream",
     "text": [
      "o peso medio é: 40.6\n"
     ]
    }
   ],
   "source": [
    "cnt = 0\n",
    "sps = 0\n",
    "\n",
    "while cnt < 5:\n",
    "    p = float(input(\"Digite o peso da pessoa: \\n\"))\n",
    "    cnt += 1\n",
    "    sps += p\n",
    "\n",
    "psmd = sps/5\n",
    "\n",
    "print (\"o peso medio é: \" + str(psmd))\n",
    "    "
   ]
  },
  {
   "cell_type": "code",
   "execution_count": null,
   "id": "a14c6857-3d48-4e24-b118-bd5d8fe0e6de",
   "metadata": {},
   "outputs": [],
   "source": []
  }
 ],
 "metadata": {
  "kernelspec": {
   "display_name": "Python [conda env:base] *",
   "language": "python",
   "name": "conda-base-py"
  },
  "language_info": {
   "codemirror_mode": {
    "name": "ipython",
    "version": 3
   },
   "file_extension": ".py",
   "mimetype": "text/x-python",
   "name": "python",
   "nbconvert_exporter": "python",
   "pygments_lexer": "ipython3",
   "version": "3.12.7"
  }
 },
 "nbformat": 4,
 "nbformat_minor": 5
}
